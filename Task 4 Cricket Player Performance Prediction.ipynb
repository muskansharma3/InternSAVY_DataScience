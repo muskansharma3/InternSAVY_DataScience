{
 "cells": [
  {
   "cell_type": "markdown",
   "id": "9cb5fab3",
   "metadata": {},
   "source": [
    "# Cricket Player Performance"
   ]
  },
  {
   "cell_type": "markdown",
   "id": "1c8cc6ef",
   "metadata": {},
   "source": [
    "## Import libraries and datasets"
   ]
  },
  {
   "cell_type": "code",
   "execution_count": 1,
   "id": "ddbfb411",
   "metadata": {},
   "outputs": [],
   "source": [
    "import numpy as np\n",
    "import pandas as pd\n",
    "import seaborn as sns\n",
    "import matplotlib.pyplot as plt\n",
    "import warnings\n",
    "warnings.filterwarnings('ignore')\n",
    "from sklearn.linear_model import LogisticRegression\n",
    "from sklearn.naive_bayes import GaussianNB\n",
    "from sklearn.ensemble import RandomForestClassifier\n",
    "from sklearn.model_selection import train_test_split"
   ]
  },
  {
   "cell_type": "markdown",
   "id": "cfa7e384",
   "metadata": {},
   "source": [
    "### >> We are working on combined dataset of both bowling and batting statistics of Indian players from World Cup 2019.\n",
    "### >> Hence, we will analyse the performance of players during the World Cup 2019"
   ]
  },
  {
   "cell_type": "code",
   "execution_count": 2,
   "id": "d55b23f1",
   "metadata": {},
   "outputs": [],
   "source": [
    "dataset=pd.read_csv(\"C:\\mahua\\Projects\\Internsavy\\World_Cup_2019_Player_Stats.csv\")"
   ]
  },
  {
   "cell_type": "code",
   "execution_count": 3,
   "id": "1729a569",
   "metadata": {},
   "outputs": [
    {
     "data": {
      "text/html": [
       "<div>\n",
       "<style scoped>\n",
       "    .dataframe tbody tr th:only-of-type {\n",
       "        vertical-align: middle;\n",
       "    }\n",
       "\n",
       "    .dataframe tbody tr th {\n",
       "        vertical-align: top;\n",
       "    }\n",
       "\n",
       "    .dataframe thead th {\n",
       "        text-align: right;\n",
       "    }\n",
       "</style>\n",
       "<table border=\"1\" class=\"dataframe\">\n",
       "  <thead>\n",
       "    <tr style=\"text-align: right;\">\n",
       "      <th></th>\n",
       "      <th>Player</th>\n",
       "      <th>Mat</th>\n",
       "      <th>Bat_Inn</th>\n",
       "      <th>Bowl_Inn</th>\n",
       "      <th>Not_Out</th>\n",
       "      <th>Runs</th>\n",
       "      <th>BF</th>\n",
       "      <th>HS</th>\n",
       "      <th>SR</th>\n",
       "      <th>100</th>\n",
       "      <th>...</th>\n",
       "      <th>4s</th>\n",
       "      <th>6s</th>\n",
       "      <th>O_Bowled</th>\n",
       "      <th>Wkts_Taken</th>\n",
       "      <th>Catches</th>\n",
       "      <th>Runs_Conceded</th>\n",
       "      <th>Bowl_Avg</th>\n",
       "      <th>Bat_Avg</th>\n",
       "      <th>Wkt-5</th>\n",
       "      <th>Maidens</th>\n",
       "    </tr>\n",
       "  </thead>\n",
       "  <tbody>\n",
       "    <tr>\n",
       "      <th>0</th>\n",
       "      <td>B Kumar</td>\n",
       "      <td>6</td>\n",
       "      <td>2</td>\n",
       "      <td>6.0</td>\n",
       "      <td>0</td>\n",
       "      <td>2</td>\n",
       "      <td>4</td>\n",
       "      <td>2</td>\n",
       "      <td>50.00</td>\n",
       "      <td>NaN</td>\n",
       "      <td>...</td>\n",
       "      <td>0</td>\n",
       "      <td>0</td>\n",
       "      <td>51.4</td>\n",
       "      <td>10.0</td>\n",
       "      <td>1.0</td>\n",
       "      <td>269.0</td>\n",
       "      <td>26.90</td>\n",
       "      <td>1.00</td>\n",
       "      <td>NaN</td>\n",
       "      <td>1.0</td>\n",
       "    </tr>\n",
       "    <tr>\n",
       "      <th>1</th>\n",
       "      <td>H Pandya</td>\n",
       "      <td>9</td>\n",
       "      <td>9</td>\n",
       "      <td>9.0</td>\n",
       "      <td>2</td>\n",
       "      <td>226</td>\n",
       "      <td>201</td>\n",
       "      <td>48</td>\n",
       "      <td>112.43</td>\n",
       "      <td>NaN</td>\n",
       "      <td>...</td>\n",
       "      <td>21</td>\n",
       "      <td>4</td>\n",
       "      <td>79.0</td>\n",
       "      <td>10.0</td>\n",
       "      <td>3.0</td>\n",
       "      <td>447.0</td>\n",
       "      <td>44.70</td>\n",
       "      <td>32.28</td>\n",
       "      <td>NaN</td>\n",
       "      <td>1.0</td>\n",
       "    </tr>\n",
       "    <tr>\n",
       "      <th>2</th>\n",
       "      <td>J Bumrah</td>\n",
       "      <td>9</td>\n",
       "      <td>3</td>\n",
       "      <td>9.0</td>\n",
       "      <td>3</td>\n",
       "      <td>1</td>\n",
       "      <td>1</td>\n",
       "      <td>1/</td>\n",
       "      <td>100.00</td>\n",
       "      <td>NaN</td>\n",
       "      <td>...</td>\n",
       "      <td>0</td>\n",
       "      <td>0</td>\n",
       "      <td>84.0</td>\n",
       "      <td>18.0</td>\n",
       "      <td>1.0</td>\n",
       "      <td>371.0</td>\n",
       "      <td>20.61</td>\n",
       "      <td>NaN</td>\n",
       "      <td>NaN</td>\n",
       "      <td>9.0</td>\n",
       "    </tr>\n",
       "    <tr>\n",
       "      <th>3</th>\n",
       "      <td>K Jadhav</td>\n",
       "      <td>6</td>\n",
       "      <td>5</td>\n",
       "      <td>3.0</td>\n",
       "      <td>3</td>\n",
       "      <td>80</td>\n",
       "      <td>99</td>\n",
       "      <td>52</td>\n",
       "      <td>80.80</td>\n",
       "      <td>NaN</td>\n",
       "      <td>...</td>\n",
       "      <td>6</td>\n",
       "      <td>1</td>\n",
       "      <td>6.0</td>\n",
       "      <td>0.0</td>\n",
       "      <td>4.0</td>\n",
       "      <td>34.0</td>\n",
       "      <td>NaN</td>\n",
       "      <td>40.00</td>\n",
       "      <td>NaN</td>\n",
       "      <td>NaN</td>\n",
       "    </tr>\n",
       "    <tr>\n",
       "      <th>4</th>\n",
       "      <td>K Yadav</td>\n",
       "      <td>7</td>\n",
       "      <td>2</td>\n",
       "      <td>7.0</td>\n",
       "      <td>2</td>\n",
       "      <td>1</td>\n",
       "      <td>2</td>\n",
       "      <td>1/</td>\n",
       "      <td>50.00</td>\n",
       "      <td>NaN</td>\n",
       "      <td>...</td>\n",
       "      <td>0</td>\n",
       "      <td>0</td>\n",
       "      <td>67.0</td>\n",
       "      <td>6.0</td>\n",
       "      <td>NaN</td>\n",
       "      <td>337.0</td>\n",
       "      <td>56.16</td>\n",
       "      <td>NaN</td>\n",
       "      <td>NaN</td>\n",
       "      <td>2.0</td>\n",
       "    </tr>\n",
       "    <tr>\n",
       "      <th>5</th>\n",
       "      <td>KD Karthik</td>\n",
       "      <td>3</td>\n",
       "      <td>2</td>\n",
       "      <td>NaN</td>\n",
       "      <td>0</td>\n",
       "      <td>14</td>\n",
       "      <td>34</td>\n",
       "      <td>8</td>\n",
       "      <td>41.17</td>\n",
       "      <td>NaN</td>\n",
       "      <td>...</td>\n",
       "      <td>2</td>\n",
       "      <td>0</td>\n",
       "      <td>NaN</td>\n",
       "      <td>NaN</td>\n",
       "      <td>3.0</td>\n",
       "      <td>NaN</td>\n",
       "      <td>NaN</td>\n",
       "      <td>7.00</td>\n",
       "      <td>NaN</td>\n",
       "      <td>NaN</td>\n",
       "    </tr>\n",
       "    <tr>\n",
       "      <th>6</th>\n",
       "      <td>KL Rahul</td>\n",
       "      <td>9</td>\n",
       "      <td>9</td>\n",
       "      <td>NaN</td>\n",
       "      <td>1</td>\n",
       "      <td>361</td>\n",
       "      <td>466</td>\n",
       "      <td>111</td>\n",
       "      <td>77.46</td>\n",
       "      <td>1.0</td>\n",
       "      <td>...</td>\n",
       "      <td>31</td>\n",
       "      <td>5</td>\n",
       "      <td>NaN</td>\n",
       "      <td>NaN</td>\n",
       "      <td>1.0</td>\n",
       "      <td>NaN</td>\n",
       "      <td>NaN</td>\n",
       "      <td>45.12</td>\n",
       "      <td>NaN</td>\n",
       "      <td>NaN</td>\n",
       "    </tr>\n",
       "    <tr>\n",
       "      <th>7</th>\n",
       "      <td>M Shami</td>\n",
       "      <td>4</td>\n",
       "      <td>3</td>\n",
       "      <td>4.0</td>\n",
       "      <td>0</td>\n",
       "      <td>2</td>\n",
       "      <td>6</td>\n",
       "      <td>1</td>\n",
       "      <td>33.33</td>\n",
       "      <td>NaN</td>\n",
       "      <td>...</td>\n",
       "      <td>0</td>\n",
       "      <td>0</td>\n",
       "      <td>35.1</td>\n",
       "      <td>14.0</td>\n",
       "      <td>3.0</td>\n",
       "      <td>193.0</td>\n",
       "      <td>13.78</td>\n",
       "      <td>0.66</td>\n",
       "      <td>1.0</td>\n",
       "      <td>2.0</td>\n",
       "    </tr>\n",
       "    <tr>\n",
       "      <th>8</th>\n",
       "      <td>MS Dhoni</td>\n",
       "      <td>9</td>\n",
       "      <td>8</td>\n",
       "      <td>NaN</td>\n",
       "      <td>2</td>\n",
       "      <td>273</td>\n",
       "      <td>311</td>\n",
       "      <td>56/</td>\n",
       "      <td>87.78</td>\n",
       "      <td>NaN</td>\n",
       "      <td>...</td>\n",
       "      <td>20</td>\n",
       "      <td>5</td>\n",
       "      <td>NaN</td>\n",
       "      <td>NaN</td>\n",
       "      <td>7.0</td>\n",
       "      <td>NaN</td>\n",
       "      <td>NaN</td>\n",
       "      <td>45.50</td>\n",
       "      <td>NaN</td>\n",
       "      <td>NaN</td>\n",
       "    </tr>\n",
       "    <tr>\n",
       "      <th>9</th>\n",
       "      <td>R Jadeja</td>\n",
       "      <td>2</td>\n",
       "      <td>1</td>\n",
       "      <td>2.0</td>\n",
       "      <td>0</td>\n",
       "      <td>77</td>\n",
       "      <td>59</td>\n",
       "      <td>77</td>\n",
       "      <td>130.50</td>\n",
       "      <td>NaN</td>\n",
       "      <td>...</td>\n",
       "      <td>4</td>\n",
       "      <td>4</td>\n",
       "      <td>20.0</td>\n",
       "      <td>2.0</td>\n",
       "      <td>3.0</td>\n",
       "      <td>74.0</td>\n",
       "      <td>37.00</td>\n",
       "      <td>77.00</td>\n",
       "      <td>NaN</td>\n",
       "      <td>NaN</td>\n",
       "    </tr>\n",
       "    <tr>\n",
       "      <th>10</th>\n",
       "      <td>R Pant</td>\n",
       "      <td>4</td>\n",
       "      <td>4</td>\n",
       "      <td>NaN</td>\n",
       "      <td>0</td>\n",
       "      <td>116</td>\n",
       "      <td>130</td>\n",
       "      <td>48</td>\n",
       "      <td>89.23</td>\n",
       "      <td>NaN</td>\n",
       "      <td>...</td>\n",
       "      <td>15</td>\n",
       "      <td>1</td>\n",
       "      <td>NaN</td>\n",
       "      <td>NaN</td>\n",
       "      <td>1.0</td>\n",
       "      <td>NaN</td>\n",
       "      <td>NaN</td>\n",
       "      <td>29.00</td>\n",
       "      <td>NaN</td>\n",
       "      <td>NaN</td>\n",
       "    </tr>\n",
       "    <tr>\n",
       "      <th>11</th>\n",
       "      <td>R Sharma</td>\n",
       "      <td>9</td>\n",
       "      <td>9</td>\n",
       "      <td>NaN</td>\n",
       "      <td>1</td>\n",
       "      <td>648</td>\n",
       "      <td>659</td>\n",
       "      <td>140</td>\n",
       "      <td>98.33</td>\n",
       "      <td>5.0</td>\n",
       "      <td>...</td>\n",
       "      <td>67</td>\n",
       "      <td>14</td>\n",
       "      <td>NaN</td>\n",
       "      <td>NaN</td>\n",
       "      <td>4.0</td>\n",
       "      <td>NaN</td>\n",
       "      <td>NaN</td>\n",
       "      <td>81.00</td>\n",
       "      <td>NaN</td>\n",
       "      <td>NaN</td>\n",
       "    </tr>\n",
       "    <tr>\n",
       "      <th>12</th>\n",
       "      <td>S Dhawan</td>\n",
       "      <td>2</td>\n",
       "      <td>2</td>\n",
       "      <td>NaN</td>\n",
       "      <td>0</td>\n",
       "      <td>125</td>\n",
       "      <td>121</td>\n",
       "      <td>117</td>\n",
       "      <td>103.30</td>\n",
       "      <td>1.0</td>\n",
       "      <td>...</td>\n",
       "      <td>17</td>\n",
       "      <td>0</td>\n",
       "      <td>NaN</td>\n",
       "      <td>NaN</td>\n",
       "      <td>NaN</td>\n",
       "      <td>NaN</td>\n",
       "      <td>NaN</td>\n",
       "      <td>62.50</td>\n",
       "      <td>NaN</td>\n",
       "      <td>NaN</td>\n",
       "    </tr>\n",
       "    <tr>\n",
       "      <th>13</th>\n",
       "      <td>V Kohli</td>\n",
       "      <td>9</td>\n",
       "      <td>9</td>\n",
       "      <td>NaN</td>\n",
       "      <td>1</td>\n",
       "      <td>443</td>\n",
       "      <td>471</td>\n",
       "      <td>82</td>\n",
       "      <td>94.05</td>\n",
       "      <td>NaN</td>\n",
       "      <td>...</td>\n",
       "      <td>38</td>\n",
       "      <td>2</td>\n",
       "      <td>NaN</td>\n",
       "      <td>NaN</td>\n",
       "      <td>6.0</td>\n",
       "      <td>NaN</td>\n",
       "      <td>NaN</td>\n",
       "      <td>55.37</td>\n",
       "      <td>NaN</td>\n",
       "      <td>NaN</td>\n",
       "    </tr>\n",
       "    <tr>\n",
       "      <th>14</th>\n",
       "      <td>V Shankar</td>\n",
       "      <td>3</td>\n",
       "      <td>3</td>\n",
       "      <td>1.0</td>\n",
       "      <td>1</td>\n",
       "      <td>58</td>\n",
       "      <td>75</td>\n",
       "      <td>29</td>\n",
       "      <td>77.33</td>\n",
       "      <td>NaN</td>\n",
       "      <td>...</td>\n",
       "      <td>6</td>\n",
       "      <td>0</td>\n",
       "      <td>5.2</td>\n",
       "      <td>2.0</td>\n",
       "      <td>2.0</td>\n",
       "      <td>22.0</td>\n",
       "      <td>11.00</td>\n",
       "      <td>29.00</td>\n",
       "      <td>NaN</td>\n",
       "      <td>NaN</td>\n",
       "    </tr>\n",
       "    <tr>\n",
       "      <th>15</th>\n",
       "      <td>Y Chahal</td>\n",
       "      <td>8</td>\n",
       "      <td>1</td>\n",
       "      <td>8.0</td>\n",
       "      <td>0</td>\n",
       "      <td>5</td>\n",
       "      <td>5</td>\n",
       "      <td>5</td>\n",
       "      <td>100.00</td>\n",
       "      <td>NaN</td>\n",
       "      <td>...</td>\n",
       "      <td>1</td>\n",
       "      <td>0</td>\n",
       "      <td>74.0</td>\n",
       "      <td>12.0</td>\n",
       "      <td>4.0</td>\n",
       "      <td>442.0</td>\n",
       "      <td>36.83</td>\n",
       "      <td>5.00</td>\n",
       "      <td>NaN</td>\n",
       "      <td>NaN</td>\n",
       "    </tr>\n",
       "  </tbody>\n",
       "</table>\n",
       "<p>16 rows × 22 columns</p>\n",
       "</div>"
      ],
      "text/plain": [
       "        Player  Mat  Bat_Inn  Bowl_Inn  Not_Out  Runs   BF   HS      SR  100  \\\n",
       "0      B Kumar    6        2       6.0        0     2    4    2   50.00  NaN   \n",
       "1     H Pandya    9        9       9.0        2   226  201   48  112.43  NaN   \n",
       "2     J Bumrah    9        3       9.0        3     1    1   1/  100.00  NaN   \n",
       "3     K Jadhav    6        5       3.0        3    80   99   52   80.80  NaN   \n",
       "4      K Yadav    7        2       7.0        2     1    2   1/   50.00  NaN   \n",
       "5   KD Karthik    3        2       NaN        0    14   34    8   41.17  NaN   \n",
       "6     KL Rahul    9        9       NaN        1   361  466  111   77.46  1.0   \n",
       "7      M Shami    4        3       4.0        0     2    6    1   33.33  NaN   \n",
       "8     MS Dhoni    9        8       NaN        2   273  311  56/   87.78  NaN   \n",
       "9     R Jadeja    2        1       2.0        0    77   59   77  130.50  NaN   \n",
       "10      R Pant    4        4       NaN        0   116  130   48   89.23  NaN   \n",
       "11    R Sharma    9        9       NaN        1   648  659  140   98.33  5.0   \n",
       "12    S Dhawan    2        2       NaN        0   125  121  117  103.30  1.0   \n",
       "13     V Kohli    9        9       NaN        1   443  471   82   94.05  NaN   \n",
       "14   V Shankar    3        3       1.0        1    58   75   29   77.33  NaN   \n",
       "15    Y Chahal    8        1       8.0        0     5    5    5  100.00  NaN   \n",
       "\n",
       "    ...  4s  6s  O_Bowled  Wkts_Taken  Catches  Runs_Conceded  Bowl_Avg  \\\n",
       "0   ...   0   0      51.4        10.0      1.0          269.0     26.90   \n",
       "1   ...  21   4      79.0        10.0      3.0          447.0     44.70   \n",
       "2   ...   0   0      84.0        18.0      1.0          371.0     20.61   \n",
       "3   ...   6   1       6.0         0.0      4.0           34.0       NaN   \n",
       "4   ...   0   0      67.0         6.0      NaN          337.0     56.16   \n",
       "5   ...   2   0       NaN         NaN      3.0            NaN       NaN   \n",
       "6   ...  31   5       NaN         NaN      1.0            NaN       NaN   \n",
       "7   ...   0   0      35.1        14.0      3.0          193.0     13.78   \n",
       "8   ...  20   5       NaN         NaN      7.0            NaN       NaN   \n",
       "9   ...   4   4      20.0         2.0      3.0           74.0     37.00   \n",
       "10  ...  15   1       NaN         NaN      1.0            NaN       NaN   \n",
       "11  ...  67  14       NaN         NaN      4.0            NaN       NaN   \n",
       "12  ...  17   0       NaN         NaN      NaN            NaN       NaN   \n",
       "13  ...  38   2       NaN         NaN      6.0            NaN       NaN   \n",
       "14  ...   6   0       5.2         2.0      2.0           22.0     11.00   \n",
       "15  ...   1   0      74.0        12.0      4.0          442.0     36.83   \n",
       "\n",
       "    Bat_Avg  Wkt-5  Maidens  \n",
       "0      1.00    NaN      1.0  \n",
       "1     32.28    NaN      1.0  \n",
       "2       NaN    NaN      9.0  \n",
       "3     40.00    NaN      NaN  \n",
       "4       NaN    NaN      2.0  \n",
       "5      7.00    NaN      NaN  \n",
       "6     45.12    NaN      NaN  \n",
       "7      0.66    1.0      2.0  \n",
       "8     45.50    NaN      NaN  \n",
       "9     77.00    NaN      NaN  \n",
       "10    29.00    NaN      NaN  \n",
       "11    81.00    NaN      NaN  \n",
       "12    62.50    NaN      NaN  \n",
       "13    55.37    NaN      NaN  \n",
       "14    29.00    NaN      NaN  \n",
       "15     5.00    NaN      NaN  \n",
       "\n",
       "[16 rows x 22 columns]"
      ]
     },
     "execution_count": 3,
     "metadata": {},
     "output_type": "execute_result"
    }
   ],
   "source": [
    "dataset"
   ]
  },
  {
   "cell_type": "code",
   "execution_count": 4,
   "id": "49b08d49",
   "metadata": {},
   "outputs": [
    {
     "data": {
      "text/html": [
       "<div>\n",
       "<style scoped>\n",
       "    .dataframe tbody tr th:only-of-type {\n",
       "        vertical-align: middle;\n",
       "    }\n",
       "\n",
       "    .dataframe tbody tr th {\n",
       "        vertical-align: top;\n",
       "    }\n",
       "\n",
       "    .dataframe thead th {\n",
       "        text-align: right;\n",
       "    }\n",
       "</style>\n",
       "<table border=\"1\" class=\"dataframe\">\n",
       "  <thead>\n",
       "    <tr style=\"text-align: right;\">\n",
       "      <th></th>\n",
       "      <th>Player</th>\n",
       "      <th>Mat</th>\n",
       "      <th>Bat_Inn</th>\n",
       "      <th>Bowl_Inn</th>\n",
       "      <th>Not_Out</th>\n",
       "      <th>Runs</th>\n",
       "      <th>BF</th>\n",
       "      <th>HS</th>\n",
       "      <th>SR</th>\n",
       "      <th>100</th>\n",
       "      <th>...</th>\n",
       "      <th>4s</th>\n",
       "      <th>6s</th>\n",
       "      <th>O_Bowled</th>\n",
       "      <th>Wkts_Taken</th>\n",
       "      <th>Catches</th>\n",
       "      <th>Runs_Conceded</th>\n",
       "      <th>Bowl_Avg</th>\n",
       "      <th>Bat_Avg</th>\n",
       "      <th>Wkt-5</th>\n",
       "      <th>Maidens</th>\n",
       "    </tr>\n",
       "  </thead>\n",
       "  <tbody>\n",
       "    <tr>\n",
       "      <th>0</th>\n",
       "      <td>B Kumar</td>\n",
       "      <td>6</td>\n",
       "      <td>2</td>\n",
       "      <td>6.0</td>\n",
       "      <td>0</td>\n",
       "      <td>2</td>\n",
       "      <td>4</td>\n",
       "      <td>2</td>\n",
       "      <td>50.00</td>\n",
       "      <td>NaN</td>\n",
       "      <td>...</td>\n",
       "      <td>0</td>\n",
       "      <td>0</td>\n",
       "      <td>51.4</td>\n",
       "      <td>10.0</td>\n",
       "      <td>1.0</td>\n",
       "      <td>269.0</td>\n",
       "      <td>26.90</td>\n",
       "      <td>1.00</td>\n",
       "      <td>NaN</td>\n",
       "      <td>1.0</td>\n",
       "    </tr>\n",
       "    <tr>\n",
       "      <th>1</th>\n",
       "      <td>H Pandya</td>\n",
       "      <td>9</td>\n",
       "      <td>9</td>\n",
       "      <td>9.0</td>\n",
       "      <td>2</td>\n",
       "      <td>226</td>\n",
       "      <td>201</td>\n",
       "      <td>48</td>\n",
       "      <td>112.43</td>\n",
       "      <td>NaN</td>\n",
       "      <td>...</td>\n",
       "      <td>21</td>\n",
       "      <td>4</td>\n",
       "      <td>79.0</td>\n",
       "      <td>10.0</td>\n",
       "      <td>3.0</td>\n",
       "      <td>447.0</td>\n",
       "      <td>44.70</td>\n",
       "      <td>32.28</td>\n",
       "      <td>NaN</td>\n",
       "      <td>1.0</td>\n",
       "    </tr>\n",
       "    <tr>\n",
       "      <th>2</th>\n",
       "      <td>J Bumrah</td>\n",
       "      <td>9</td>\n",
       "      <td>3</td>\n",
       "      <td>9.0</td>\n",
       "      <td>3</td>\n",
       "      <td>1</td>\n",
       "      <td>1</td>\n",
       "      <td>1/</td>\n",
       "      <td>100.00</td>\n",
       "      <td>NaN</td>\n",
       "      <td>...</td>\n",
       "      <td>0</td>\n",
       "      <td>0</td>\n",
       "      <td>84.0</td>\n",
       "      <td>18.0</td>\n",
       "      <td>1.0</td>\n",
       "      <td>371.0</td>\n",
       "      <td>20.61</td>\n",
       "      <td>NaN</td>\n",
       "      <td>NaN</td>\n",
       "      <td>9.0</td>\n",
       "    </tr>\n",
       "    <tr>\n",
       "      <th>3</th>\n",
       "      <td>K Jadhav</td>\n",
       "      <td>6</td>\n",
       "      <td>5</td>\n",
       "      <td>3.0</td>\n",
       "      <td>3</td>\n",
       "      <td>80</td>\n",
       "      <td>99</td>\n",
       "      <td>52</td>\n",
       "      <td>80.80</td>\n",
       "      <td>NaN</td>\n",
       "      <td>...</td>\n",
       "      <td>6</td>\n",
       "      <td>1</td>\n",
       "      <td>6.0</td>\n",
       "      <td>0.0</td>\n",
       "      <td>4.0</td>\n",
       "      <td>34.0</td>\n",
       "      <td>NaN</td>\n",
       "      <td>40.00</td>\n",
       "      <td>NaN</td>\n",
       "      <td>NaN</td>\n",
       "    </tr>\n",
       "    <tr>\n",
       "      <th>4</th>\n",
       "      <td>K Yadav</td>\n",
       "      <td>7</td>\n",
       "      <td>2</td>\n",
       "      <td>7.0</td>\n",
       "      <td>2</td>\n",
       "      <td>1</td>\n",
       "      <td>2</td>\n",
       "      <td>1/</td>\n",
       "      <td>50.00</td>\n",
       "      <td>NaN</td>\n",
       "      <td>...</td>\n",
       "      <td>0</td>\n",
       "      <td>0</td>\n",
       "      <td>67.0</td>\n",
       "      <td>6.0</td>\n",
       "      <td>NaN</td>\n",
       "      <td>337.0</td>\n",
       "      <td>56.16</td>\n",
       "      <td>NaN</td>\n",
       "      <td>NaN</td>\n",
       "      <td>2.0</td>\n",
       "    </tr>\n",
       "  </tbody>\n",
       "</table>\n",
       "<p>5 rows × 22 columns</p>\n",
       "</div>"
      ],
      "text/plain": [
       "     Player  Mat  Bat_Inn  Bowl_Inn  Not_Out  Runs   BF  HS      SR  100  ...  \\\n",
       "0   B Kumar    6        2       6.0        0     2    4   2   50.00  NaN  ...   \n",
       "1  H Pandya    9        9       9.0        2   226  201  48  112.43  NaN  ...   \n",
       "2  J Bumrah    9        3       9.0        3     1    1  1/  100.00  NaN  ...   \n",
       "3  K Jadhav    6        5       3.0        3    80   99  52   80.80  NaN  ...   \n",
       "4   K Yadav    7        2       7.0        2     1    2  1/   50.00  NaN  ...   \n",
       "\n",
       "   4s  6s  O_Bowled  Wkts_Taken  Catches  Runs_Conceded  Bowl_Avg  Bat_Avg  \\\n",
       "0   0   0      51.4        10.0      1.0          269.0     26.90     1.00   \n",
       "1  21   4      79.0        10.0      3.0          447.0     44.70    32.28   \n",
       "2   0   0      84.0        18.0      1.0          371.0     20.61      NaN   \n",
       "3   6   1       6.0         0.0      4.0           34.0       NaN    40.00   \n",
       "4   0   0      67.0         6.0      NaN          337.0     56.16      NaN   \n",
       "\n",
       "   Wkt-5  Maidens  \n",
       "0    NaN      1.0  \n",
       "1    NaN      1.0  \n",
       "2    NaN      9.0  \n",
       "3    NaN      NaN  \n",
       "4    NaN      2.0  \n",
       "\n",
       "[5 rows x 22 columns]"
      ]
     },
     "execution_count": 4,
     "metadata": {},
     "output_type": "execute_result"
    }
   ],
   "source": [
    "dataset.head()"
   ]
  },
  {
   "cell_type": "code",
   "execution_count": 5,
   "id": "8ca62a3e",
   "metadata": {},
   "outputs": [
    {
     "data": {
      "text/html": [
       "<div>\n",
       "<style scoped>\n",
       "    .dataframe tbody tr th:only-of-type {\n",
       "        vertical-align: middle;\n",
       "    }\n",
       "\n",
       "    .dataframe tbody tr th {\n",
       "        vertical-align: top;\n",
       "    }\n",
       "\n",
       "    .dataframe thead th {\n",
       "        text-align: right;\n",
       "    }\n",
       "</style>\n",
       "<table border=\"1\" class=\"dataframe\">\n",
       "  <thead>\n",
       "    <tr style=\"text-align: right;\">\n",
       "      <th></th>\n",
       "      <th>Player</th>\n",
       "      <th>Mat</th>\n",
       "      <th>Bat_Inn</th>\n",
       "      <th>Bowl_Inn</th>\n",
       "      <th>Not_Out</th>\n",
       "      <th>Runs</th>\n",
       "      <th>BF</th>\n",
       "      <th>HS</th>\n",
       "      <th>SR</th>\n",
       "      <th>100</th>\n",
       "      <th>...</th>\n",
       "      <th>4s</th>\n",
       "      <th>6s</th>\n",
       "      <th>O_Bowled</th>\n",
       "      <th>Wkts_Taken</th>\n",
       "      <th>Catches</th>\n",
       "      <th>Runs_Conceded</th>\n",
       "      <th>Bowl_Avg</th>\n",
       "      <th>Bat_Avg</th>\n",
       "      <th>Wkt-5</th>\n",
       "      <th>Maidens</th>\n",
       "    </tr>\n",
       "  </thead>\n",
       "  <tbody>\n",
       "    <tr>\n",
       "      <th>11</th>\n",
       "      <td>R Sharma</td>\n",
       "      <td>9</td>\n",
       "      <td>9</td>\n",
       "      <td>NaN</td>\n",
       "      <td>1</td>\n",
       "      <td>648</td>\n",
       "      <td>659</td>\n",
       "      <td>140</td>\n",
       "      <td>98.33</td>\n",
       "      <td>5.0</td>\n",
       "      <td>...</td>\n",
       "      <td>67</td>\n",
       "      <td>14</td>\n",
       "      <td>NaN</td>\n",
       "      <td>NaN</td>\n",
       "      <td>4.0</td>\n",
       "      <td>NaN</td>\n",
       "      <td>NaN</td>\n",
       "      <td>81.00</td>\n",
       "      <td>NaN</td>\n",
       "      <td>NaN</td>\n",
       "    </tr>\n",
       "    <tr>\n",
       "      <th>12</th>\n",
       "      <td>S Dhawan</td>\n",
       "      <td>2</td>\n",
       "      <td>2</td>\n",
       "      <td>NaN</td>\n",
       "      <td>0</td>\n",
       "      <td>125</td>\n",
       "      <td>121</td>\n",
       "      <td>117</td>\n",
       "      <td>103.30</td>\n",
       "      <td>1.0</td>\n",
       "      <td>...</td>\n",
       "      <td>17</td>\n",
       "      <td>0</td>\n",
       "      <td>NaN</td>\n",
       "      <td>NaN</td>\n",
       "      <td>NaN</td>\n",
       "      <td>NaN</td>\n",
       "      <td>NaN</td>\n",
       "      <td>62.50</td>\n",
       "      <td>NaN</td>\n",
       "      <td>NaN</td>\n",
       "    </tr>\n",
       "    <tr>\n",
       "      <th>13</th>\n",
       "      <td>V Kohli</td>\n",
       "      <td>9</td>\n",
       "      <td>9</td>\n",
       "      <td>NaN</td>\n",
       "      <td>1</td>\n",
       "      <td>443</td>\n",
       "      <td>471</td>\n",
       "      <td>82</td>\n",
       "      <td>94.05</td>\n",
       "      <td>NaN</td>\n",
       "      <td>...</td>\n",
       "      <td>38</td>\n",
       "      <td>2</td>\n",
       "      <td>NaN</td>\n",
       "      <td>NaN</td>\n",
       "      <td>6.0</td>\n",
       "      <td>NaN</td>\n",
       "      <td>NaN</td>\n",
       "      <td>55.37</td>\n",
       "      <td>NaN</td>\n",
       "      <td>NaN</td>\n",
       "    </tr>\n",
       "    <tr>\n",
       "      <th>14</th>\n",
       "      <td>V Shankar</td>\n",
       "      <td>3</td>\n",
       "      <td>3</td>\n",
       "      <td>1.0</td>\n",
       "      <td>1</td>\n",
       "      <td>58</td>\n",
       "      <td>75</td>\n",
       "      <td>29</td>\n",
       "      <td>77.33</td>\n",
       "      <td>NaN</td>\n",
       "      <td>...</td>\n",
       "      <td>6</td>\n",
       "      <td>0</td>\n",
       "      <td>5.2</td>\n",
       "      <td>2.0</td>\n",
       "      <td>2.0</td>\n",
       "      <td>22.0</td>\n",
       "      <td>11.00</td>\n",
       "      <td>29.00</td>\n",
       "      <td>NaN</td>\n",
       "      <td>NaN</td>\n",
       "    </tr>\n",
       "    <tr>\n",
       "      <th>15</th>\n",
       "      <td>Y Chahal</td>\n",
       "      <td>8</td>\n",
       "      <td>1</td>\n",
       "      <td>8.0</td>\n",
       "      <td>0</td>\n",
       "      <td>5</td>\n",
       "      <td>5</td>\n",
       "      <td>5</td>\n",
       "      <td>100.00</td>\n",
       "      <td>NaN</td>\n",
       "      <td>...</td>\n",
       "      <td>1</td>\n",
       "      <td>0</td>\n",
       "      <td>74.0</td>\n",
       "      <td>12.0</td>\n",
       "      <td>4.0</td>\n",
       "      <td>442.0</td>\n",
       "      <td>36.83</td>\n",
       "      <td>5.00</td>\n",
       "      <td>NaN</td>\n",
       "      <td>NaN</td>\n",
       "    </tr>\n",
       "  </tbody>\n",
       "</table>\n",
       "<p>5 rows × 22 columns</p>\n",
       "</div>"
      ],
      "text/plain": [
       "       Player  Mat  Bat_Inn  Bowl_Inn  Not_Out  Runs   BF   HS      SR  100  \\\n",
       "11   R Sharma    9        9       NaN        1   648  659  140   98.33  5.0   \n",
       "12   S Dhawan    2        2       NaN        0   125  121  117  103.30  1.0   \n",
       "13    V Kohli    9        9       NaN        1   443  471   82   94.05  NaN   \n",
       "14  V Shankar    3        3       1.0        1    58   75   29   77.33  NaN   \n",
       "15   Y Chahal    8        1       8.0        0     5    5    5  100.00  NaN   \n",
       "\n",
       "    ...  4s  6s  O_Bowled  Wkts_Taken  Catches  Runs_Conceded  Bowl_Avg  \\\n",
       "11  ...  67  14       NaN         NaN      4.0            NaN       NaN   \n",
       "12  ...  17   0       NaN         NaN      NaN            NaN       NaN   \n",
       "13  ...  38   2       NaN         NaN      6.0            NaN       NaN   \n",
       "14  ...   6   0       5.2         2.0      2.0           22.0     11.00   \n",
       "15  ...   1   0      74.0        12.0      4.0          442.0     36.83   \n",
       "\n",
       "    Bat_Avg  Wkt-5  Maidens  \n",
       "11    81.00    NaN      NaN  \n",
       "12    62.50    NaN      NaN  \n",
       "13    55.37    NaN      NaN  \n",
       "14    29.00    NaN      NaN  \n",
       "15     5.00    NaN      NaN  \n",
       "\n",
       "[5 rows x 22 columns]"
      ]
     },
     "execution_count": 5,
     "metadata": {},
     "output_type": "execute_result"
    }
   ],
   "source": [
    "dataset.tail()"
   ]
  },
  {
   "cell_type": "code",
   "execution_count": 6,
   "id": "3eca92ff",
   "metadata": {},
   "outputs": [
    {
     "name": "stdout",
     "output_type": "stream",
     "text": [
      "<class 'pandas.core.frame.DataFrame'>\n",
      "RangeIndex: 16 entries, 0 to 15\n",
      "Data columns (total 22 columns):\n",
      " #   Column         Non-Null Count  Dtype  \n",
      "---  ------         --------------  -----  \n",
      " 0   Player         16 non-null     object \n",
      " 1   Mat            16 non-null     int64  \n",
      " 2   Bat_Inn        16 non-null     int64  \n",
      " 3   Bowl_Inn       9 non-null      float64\n",
      " 4   Not_Out        16 non-null     int64  \n",
      " 5   Runs           16 non-null     int64  \n",
      " 6   BF             16 non-null     int64  \n",
      " 7   HS             16 non-null     object \n",
      " 8   SR             16 non-null     float64\n",
      " 9   100            3 non-null      float64\n",
      " 10  50             6 non-null      float64\n",
      " 11  0              4 non-null      float64\n",
      " 12  4s             16 non-null     int64  \n",
      " 13  6s             16 non-null     int64  \n",
      " 14  O_Bowled       9 non-null      float64\n",
      " 15  Wkts_Taken     9 non-null      float64\n",
      " 16  Catches        14 non-null     float64\n",
      " 17  Runs_Conceded  9 non-null      float64\n",
      " 18  Bowl_Avg       8 non-null      float64\n",
      " 19  Bat_Avg        14 non-null     float64\n",
      " 20  Wkt-5          1 non-null      float64\n",
      " 21  Maidens        5 non-null      float64\n",
      "dtypes: float64(13), int64(7), object(2)\n",
      "memory usage: 2.9+ KB\n"
     ]
    }
   ],
   "source": [
    "dataset.info()"
   ]
  },
  {
   "cell_type": "code",
   "execution_count": 7,
   "id": "ca8ab09e",
   "metadata": {},
   "outputs": [
    {
     "data": {
      "text/html": [
       "<div>\n",
       "<style scoped>\n",
       "    .dataframe tbody tr th:only-of-type {\n",
       "        vertical-align: middle;\n",
       "    }\n",
       "\n",
       "    .dataframe tbody tr th {\n",
       "        vertical-align: top;\n",
       "    }\n",
       "\n",
       "    .dataframe thead th {\n",
       "        text-align: right;\n",
       "    }\n",
       "</style>\n",
       "<table border=\"1\" class=\"dataframe\">\n",
       "  <thead>\n",
       "    <tr style=\"text-align: right;\">\n",
       "      <th></th>\n",
       "      <th>Mat</th>\n",
       "      <th>Bat_Inn</th>\n",
       "      <th>Bowl_Inn</th>\n",
       "      <th>Not_Out</th>\n",
       "      <th>Runs</th>\n",
       "      <th>BF</th>\n",
       "      <th>SR</th>\n",
       "      <th>100</th>\n",
       "      <th>50</th>\n",
       "      <th>0</th>\n",
       "      <th>4s</th>\n",
       "      <th>6s</th>\n",
       "      <th>O_Bowled</th>\n",
       "      <th>Wkts_Taken</th>\n",
       "      <th>Catches</th>\n",
       "      <th>Runs_Conceded</th>\n",
       "      <th>Bowl_Avg</th>\n",
       "      <th>Bat_Avg</th>\n",
       "      <th>Wkt-5</th>\n",
       "      <th>Maidens</th>\n",
       "    </tr>\n",
       "  </thead>\n",
       "  <tbody>\n",
       "    <tr>\n",
       "      <th>count</th>\n",
       "      <td>16.000000</td>\n",
       "      <td>16.000000</td>\n",
       "      <td>9.000000</td>\n",
       "      <td>16.000000</td>\n",
       "      <td>16.000000</td>\n",
       "      <td>16.000000</td>\n",
       "      <td>16.000000</td>\n",
       "      <td>3.000000</td>\n",
       "      <td>6.000000</td>\n",
       "      <td>4.0</td>\n",
       "      <td>16.00000</td>\n",
       "      <td>16.000000</td>\n",
       "      <td>9.000000</td>\n",
       "      <td>9.000000</td>\n",
       "      <td>14.000000</td>\n",
       "      <td>9.000000</td>\n",
       "      <td>8.000000</td>\n",
       "      <td>14.000000</td>\n",
       "      <td>1.0</td>\n",
       "      <td>5.000000</td>\n",
       "    </tr>\n",
       "    <tr>\n",
       "      <th>mean</th>\n",
       "      <td>6.187500</td>\n",
       "      <td>4.500000</td>\n",
       "      <td>5.444444</td>\n",
       "      <td>1.000000</td>\n",
       "      <td>152.000000</td>\n",
       "      <td>165.250000</td>\n",
       "      <td>82.856875</td>\n",
       "      <td>2.333333</td>\n",
       "      <td>2.000000</td>\n",
       "      <td>1.0</td>\n",
       "      <td>14.25000</td>\n",
       "      <td>2.250000</td>\n",
       "      <td>46.855556</td>\n",
       "      <td>8.222222</td>\n",
       "      <td>3.071429</td>\n",
       "      <td>243.222222</td>\n",
       "      <td>30.872500</td>\n",
       "      <td>36.459286</td>\n",
       "      <td>1.0</td>\n",
       "      <td>3.000000</td>\n",
       "    </tr>\n",
       "    <tr>\n",
       "      <th>std</th>\n",
       "      <td>2.786126</td>\n",
       "      <td>3.162278</td>\n",
       "      <td>3.045944</td>\n",
       "      <td>1.095445</td>\n",
       "      <td>191.035773</td>\n",
       "      <td>204.151088</td>\n",
       "      <td>27.072062</td>\n",
       "      <td>2.309401</td>\n",
       "      <td>1.549193</td>\n",
       "      <td>0.0</td>\n",
       "      <td>18.42643</td>\n",
       "      <td>3.678768</td>\n",
       "      <td>31.304996</td>\n",
       "      <td>6.119187</td>\n",
       "      <td>1.859044</td>\n",
       "      <td>169.814441</td>\n",
       "      <td>15.638163</td>\n",
       "      <td>26.829479</td>\n",
       "      <td>NaN</td>\n",
       "      <td>3.391165</td>\n",
       "    </tr>\n",
       "    <tr>\n",
       "      <th>min</th>\n",
       "      <td>2.000000</td>\n",
       "      <td>1.000000</td>\n",
       "      <td>1.000000</td>\n",
       "      <td>0.000000</td>\n",
       "      <td>1.000000</td>\n",
       "      <td>1.000000</td>\n",
       "      <td>33.330000</td>\n",
       "      <td>1.000000</td>\n",
       "      <td>1.000000</td>\n",
       "      <td>1.0</td>\n",
       "      <td>0.00000</td>\n",
       "      <td>0.000000</td>\n",
       "      <td>5.200000</td>\n",
       "      <td>0.000000</td>\n",
       "      <td>1.000000</td>\n",
       "      <td>22.000000</td>\n",
       "      <td>11.000000</td>\n",
       "      <td>0.660000</td>\n",
       "      <td>1.0</td>\n",
       "      <td>1.000000</td>\n",
       "    </tr>\n",
       "    <tr>\n",
       "      <th>25%</th>\n",
       "      <td>3.750000</td>\n",
       "      <td>2.000000</td>\n",
       "      <td>3.000000</td>\n",
       "      <td>0.000000</td>\n",
       "      <td>4.250000</td>\n",
       "      <td>5.750000</td>\n",
       "      <td>70.497500</td>\n",
       "      <td>1.000000</td>\n",
       "      <td>1.000000</td>\n",
       "      <td>1.0</td>\n",
       "      <td>0.75000</td>\n",
       "      <td>0.000000</td>\n",
       "      <td>20.000000</td>\n",
       "      <td>2.000000</td>\n",
       "      <td>1.250000</td>\n",
       "      <td>74.000000</td>\n",
       "      <td>18.902500</td>\n",
       "      <td>12.500000</td>\n",
       "      <td>1.0</td>\n",
       "      <td>1.000000</td>\n",
       "    </tr>\n",
       "    <tr>\n",
       "      <th>50%</th>\n",
       "      <td>6.500000</td>\n",
       "      <td>3.000000</td>\n",
       "      <td>6.000000</td>\n",
       "      <td>1.000000</td>\n",
       "      <td>78.500000</td>\n",
       "      <td>87.000000</td>\n",
       "      <td>88.505000</td>\n",
       "      <td>1.000000</td>\n",
       "      <td>1.500000</td>\n",
       "      <td>1.0</td>\n",
       "      <td>6.00000</td>\n",
       "      <td>0.500000</td>\n",
       "      <td>51.400000</td>\n",
       "      <td>10.000000</td>\n",
       "      <td>3.000000</td>\n",
       "      <td>269.000000</td>\n",
       "      <td>31.865000</td>\n",
       "      <td>36.140000</td>\n",
       "      <td>1.0</td>\n",
       "      <td>2.000000</td>\n",
       "    </tr>\n",
       "    <tr>\n",
       "      <th>75%</th>\n",
       "      <td>9.000000</td>\n",
       "      <td>8.250000</td>\n",
       "      <td>8.000000</td>\n",
       "      <td>2.000000</td>\n",
       "      <td>237.750000</td>\n",
       "      <td>228.500000</td>\n",
       "      <td>100.000000</td>\n",
       "      <td>3.000000</td>\n",
       "      <td>2.000000</td>\n",
       "      <td>1.0</td>\n",
       "      <td>20.25000</td>\n",
       "      <td>4.000000</td>\n",
       "      <td>74.000000</td>\n",
       "      <td>12.000000</td>\n",
       "      <td>4.000000</td>\n",
       "      <td>371.000000</td>\n",
       "      <td>38.925000</td>\n",
       "      <td>52.902500</td>\n",
       "      <td>1.0</td>\n",
       "      <td>2.000000</td>\n",
       "    </tr>\n",
       "    <tr>\n",
       "      <th>max</th>\n",
       "      <td>9.000000</td>\n",
       "      <td>9.000000</td>\n",
       "      <td>9.000000</td>\n",
       "      <td>3.000000</td>\n",
       "      <td>648.000000</td>\n",
       "      <td>659.000000</td>\n",
       "      <td>130.500000</td>\n",
       "      <td>5.000000</td>\n",
       "      <td>5.000000</td>\n",
       "      <td>1.0</td>\n",
       "      <td>67.00000</td>\n",
       "      <td>14.000000</td>\n",
       "      <td>84.000000</td>\n",
       "      <td>18.000000</td>\n",
       "      <td>7.000000</td>\n",
       "      <td>447.000000</td>\n",
       "      <td>56.160000</td>\n",
       "      <td>81.000000</td>\n",
       "      <td>1.0</td>\n",
       "      <td>9.000000</td>\n",
       "    </tr>\n",
       "  </tbody>\n",
       "</table>\n",
       "</div>"
      ],
      "text/plain": [
       "             Mat    Bat_Inn  Bowl_Inn    Not_Out        Runs          BF  \\\n",
       "count  16.000000  16.000000  9.000000  16.000000   16.000000   16.000000   \n",
       "mean    6.187500   4.500000  5.444444   1.000000  152.000000  165.250000   \n",
       "std     2.786126   3.162278  3.045944   1.095445  191.035773  204.151088   \n",
       "min     2.000000   1.000000  1.000000   0.000000    1.000000    1.000000   \n",
       "25%     3.750000   2.000000  3.000000   0.000000    4.250000    5.750000   \n",
       "50%     6.500000   3.000000  6.000000   1.000000   78.500000   87.000000   \n",
       "75%     9.000000   8.250000  8.000000   2.000000  237.750000  228.500000   \n",
       "max     9.000000   9.000000  9.000000   3.000000  648.000000  659.000000   \n",
       "\n",
       "               SR       100        50    0        4s         6s   O_Bowled  \\\n",
       "count   16.000000  3.000000  6.000000  4.0  16.00000  16.000000   9.000000   \n",
       "mean    82.856875  2.333333  2.000000  1.0  14.25000   2.250000  46.855556   \n",
       "std     27.072062  2.309401  1.549193  0.0  18.42643   3.678768  31.304996   \n",
       "min     33.330000  1.000000  1.000000  1.0   0.00000   0.000000   5.200000   \n",
       "25%     70.497500  1.000000  1.000000  1.0   0.75000   0.000000  20.000000   \n",
       "50%     88.505000  1.000000  1.500000  1.0   6.00000   0.500000  51.400000   \n",
       "75%    100.000000  3.000000  2.000000  1.0  20.25000   4.000000  74.000000   \n",
       "max    130.500000  5.000000  5.000000  1.0  67.00000  14.000000  84.000000   \n",
       "\n",
       "       Wkts_Taken    Catches  Runs_Conceded   Bowl_Avg    Bat_Avg  Wkt-5  \\\n",
       "count    9.000000  14.000000       9.000000   8.000000  14.000000    1.0   \n",
       "mean     8.222222   3.071429     243.222222  30.872500  36.459286    1.0   \n",
       "std      6.119187   1.859044     169.814441  15.638163  26.829479    NaN   \n",
       "min      0.000000   1.000000      22.000000  11.000000   0.660000    1.0   \n",
       "25%      2.000000   1.250000      74.000000  18.902500  12.500000    1.0   \n",
       "50%     10.000000   3.000000     269.000000  31.865000  36.140000    1.0   \n",
       "75%     12.000000   4.000000     371.000000  38.925000  52.902500    1.0   \n",
       "max     18.000000   7.000000     447.000000  56.160000  81.000000    1.0   \n",
       "\n",
       "        Maidens  \n",
       "count  5.000000  \n",
       "mean   3.000000  \n",
       "std    3.391165  \n",
       "min    1.000000  \n",
       "25%    1.000000  \n",
       "50%    2.000000  \n",
       "75%    2.000000  \n",
       "max    9.000000  "
      ]
     },
     "execution_count": 7,
     "metadata": {},
     "output_type": "execute_result"
    }
   ],
   "source": [
    "dataset.describe()"
   ]
  },
  {
   "cell_type": "markdown",
   "id": "44513238",
   "metadata": {},
   "source": [
    "### Data Pre-processing"
   ]
  },
  {
   "cell_type": "code",
   "execution_count": 8,
   "id": "a8671c79",
   "metadata": {},
   "outputs": [
    {
     "data": {
      "text/plain": [
       "Player           False\n",
       "Mat              False\n",
       "Bat_Inn          False\n",
       "Bowl_Inn          True\n",
       "Not_Out          False\n",
       "Runs             False\n",
       "BF               False\n",
       "HS               False\n",
       "SR               False\n",
       "100               True\n",
       "50                True\n",
       "0                 True\n",
       "4s               False\n",
       "6s               False\n",
       "O_Bowled          True\n",
       "Wkts_Taken        True\n",
       "Catches           True\n",
       "Runs_Conceded     True\n",
       "Bowl_Avg          True\n",
       "Bat_Avg           True\n",
       "Wkt-5             True\n",
       "Maidens           True\n",
       "dtype: bool"
      ]
     },
     "execution_count": 8,
     "metadata": {},
     "output_type": "execute_result"
    }
   ],
   "source": [
    "dataset.isnull().any()"
   ]
  },
  {
   "cell_type": "code",
   "execution_count": 9,
   "id": "0a64c766",
   "metadata": {},
   "outputs": [
    {
     "data": {
      "text/plain": [
       "Player            0\n",
       "Mat               0\n",
       "Bat_Inn           0\n",
       "Bowl_Inn          7\n",
       "Not_Out           0\n",
       "Runs              0\n",
       "BF                0\n",
       "HS                0\n",
       "SR                0\n",
       "100              13\n",
       "50               10\n",
       "0                12\n",
       "4s                0\n",
       "6s                0\n",
       "O_Bowled          7\n",
       "Wkts_Taken        7\n",
       "Catches           2\n",
       "Runs_Conceded     7\n",
       "Bowl_Avg          8\n",
       "Bat_Avg           2\n",
       "Wkt-5            15\n",
       "Maidens          11\n",
       "dtype: int64"
      ]
     },
     "execution_count": 9,
     "metadata": {},
     "output_type": "execute_result"
    }
   ],
   "source": [
    "dataset.isnull().sum()"
   ]
  },
  {
   "cell_type": "code",
   "execution_count": 10,
   "id": "cfd13d19",
   "metadata": {},
   "outputs": [],
   "source": [
    "dataset=dataset.replace(np.nan,0)"
   ]
  },
  {
   "cell_type": "code",
   "execution_count": 11,
   "id": "751d3eee",
   "metadata": {},
   "outputs": [
    {
     "data": {
      "text/html": [
       "<div>\n",
       "<style scoped>\n",
       "    .dataframe tbody tr th:only-of-type {\n",
       "        vertical-align: middle;\n",
       "    }\n",
       "\n",
       "    .dataframe tbody tr th {\n",
       "        vertical-align: top;\n",
       "    }\n",
       "\n",
       "    .dataframe thead th {\n",
       "        text-align: right;\n",
       "    }\n",
       "</style>\n",
       "<table border=\"1\" class=\"dataframe\">\n",
       "  <thead>\n",
       "    <tr style=\"text-align: right;\">\n",
       "      <th></th>\n",
       "      <th>Player</th>\n",
       "      <th>Mat</th>\n",
       "      <th>Bat_Inn</th>\n",
       "      <th>Bowl_Inn</th>\n",
       "      <th>Not_Out</th>\n",
       "      <th>Runs</th>\n",
       "      <th>BF</th>\n",
       "      <th>HS</th>\n",
       "      <th>SR</th>\n",
       "      <th>100</th>\n",
       "      <th>...</th>\n",
       "      <th>4s</th>\n",
       "      <th>6s</th>\n",
       "      <th>O_Bowled</th>\n",
       "      <th>Wkts_Taken</th>\n",
       "      <th>Catches</th>\n",
       "      <th>Runs_Conceded</th>\n",
       "      <th>Bowl_Avg</th>\n",
       "      <th>Bat_Avg</th>\n",
       "      <th>Wkt-5</th>\n",
       "      <th>Maidens</th>\n",
       "    </tr>\n",
       "  </thead>\n",
       "  <tbody>\n",
       "    <tr>\n",
       "      <th>0</th>\n",
       "      <td>B Kumar</td>\n",
       "      <td>6</td>\n",
       "      <td>2</td>\n",
       "      <td>6.0</td>\n",
       "      <td>0</td>\n",
       "      <td>2</td>\n",
       "      <td>4</td>\n",
       "      <td>2</td>\n",
       "      <td>50.00</td>\n",
       "      <td>0.0</td>\n",
       "      <td>...</td>\n",
       "      <td>0</td>\n",
       "      <td>0</td>\n",
       "      <td>51.4</td>\n",
       "      <td>10.0</td>\n",
       "      <td>1.0</td>\n",
       "      <td>269.0</td>\n",
       "      <td>26.90</td>\n",
       "      <td>1.00</td>\n",
       "      <td>0.0</td>\n",
       "      <td>1.0</td>\n",
       "    </tr>\n",
       "    <tr>\n",
       "      <th>1</th>\n",
       "      <td>H Pandya</td>\n",
       "      <td>9</td>\n",
       "      <td>9</td>\n",
       "      <td>9.0</td>\n",
       "      <td>2</td>\n",
       "      <td>226</td>\n",
       "      <td>201</td>\n",
       "      <td>48</td>\n",
       "      <td>112.43</td>\n",
       "      <td>0.0</td>\n",
       "      <td>...</td>\n",
       "      <td>21</td>\n",
       "      <td>4</td>\n",
       "      <td>79.0</td>\n",
       "      <td>10.0</td>\n",
       "      <td>3.0</td>\n",
       "      <td>447.0</td>\n",
       "      <td>44.70</td>\n",
       "      <td>32.28</td>\n",
       "      <td>0.0</td>\n",
       "      <td>1.0</td>\n",
       "    </tr>\n",
       "    <tr>\n",
       "      <th>2</th>\n",
       "      <td>J Bumrah</td>\n",
       "      <td>9</td>\n",
       "      <td>3</td>\n",
       "      <td>9.0</td>\n",
       "      <td>3</td>\n",
       "      <td>1</td>\n",
       "      <td>1</td>\n",
       "      <td>1/</td>\n",
       "      <td>100.00</td>\n",
       "      <td>0.0</td>\n",
       "      <td>...</td>\n",
       "      <td>0</td>\n",
       "      <td>0</td>\n",
       "      <td>84.0</td>\n",
       "      <td>18.0</td>\n",
       "      <td>1.0</td>\n",
       "      <td>371.0</td>\n",
       "      <td>20.61</td>\n",
       "      <td>0.00</td>\n",
       "      <td>0.0</td>\n",
       "      <td>9.0</td>\n",
       "    </tr>\n",
       "    <tr>\n",
       "      <th>3</th>\n",
       "      <td>K Jadhav</td>\n",
       "      <td>6</td>\n",
       "      <td>5</td>\n",
       "      <td>3.0</td>\n",
       "      <td>3</td>\n",
       "      <td>80</td>\n",
       "      <td>99</td>\n",
       "      <td>52</td>\n",
       "      <td>80.80</td>\n",
       "      <td>0.0</td>\n",
       "      <td>...</td>\n",
       "      <td>6</td>\n",
       "      <td>1</td>\n",
       "      <td>6.0</td>\n",
       "      <td>0.0</td>\n",
       "      <td>4.0</td>\n",
       "      <td>34.0</td>\n",
       "      <td>0.00</td>\n",
       "      <td>40.00</td>\n",
       "      <td>0.0</td>\n",
       "      <td>0.0</td>\n",
       "    </tr>\n",
       "    <tr>\n",
       "      <th>4</th>\n",
       "      <td>K Yadav</td>\n",
       "      <td>7</td>\n",
       "      <td>2</td>\n",
       "      <td>7.0</td>\n",
       "      <td>2</td>\n",
       "      <td>1</td>\n",
       "      <td>2</td>\n",
       "      <td>1/</td>\n",
       "      <td>50.00</td>\n",
       "      <td>0.0</td>\n",
       "      <td>...</td>\n",
       "      <td>0</td>\n",
       "      <td>0</td>\n",
       "      <td>67.0</td>\n",
       "      <td>6.0</td>\n",
       "      <td>0.0</td>\n",
       "      <td>337.0</td>\n",
       "      <td>56.16</td>\n",
       "      <td>0.00</td>\n",
       "      <td>0.0</td>\n",
       "      <td>2.0</td>\n",
       "    </tr>\n",
       "    <tr>\n",
       "      <th>5</th>\n",
       "      <td>KD Karthik</td>\n",
       "      <td>3</td>\n",
       "      <td>2</td>\n",
       "      <td>0.0</td>\n",
       "      <td>0</td>\n",
       "      <td>14</td>\n",
       "      <td>34</td>\n",
       "      <td>8</td>\n",
       "      <td>41.17</td>\n",
       "      <td>0.0</td>\n",
       "      <td>...</td>\n",
       "      <td>2</td>\n",
       "      <td>0</td>\n",
       "      <td>0.0</td>\n",
       "      <td>0.0</td>\n",
       "      <td>3.0</td>\n",
       "      <td>0.0</td>\n",
       "      <td>0.00</td>\n",
       "      <td>7.00</td>\n",
       "      <td>0.0</td>\n",
       "      <td>0.0</td>\n",
       "    </tr>\n",
       "    <tr>\n",
       "      <th>6</th>\n",
       "      <td>KL Rahul</td>\n",
       "      <td>9</td>\n",
       "      <td>9</td>\n",
       "      <td>0.0</td>\n",
       "      <td>1</td>\n",
       "      <td>361</td>\n",
       "      <td>466</td>\n",
       "      <td>111</td>\n",
       "      <td>77.46</td>\n",
       "      <td>1.0</td>\n",
       "      <td>...</td>\n",
       "      <td>31</td>\n",
       "      <td>5</td>\n",
       "      <td>0.0</td>\n",
       "      <td>0.0</td>\n",
       "      <td>1.0</td>\n",
       "      <td>0.0</td>\n",
       "      <td>0.00</td>\n",
       "      <td>45.12</td>\n",
       "      <td>0.0</td>\n",
       "      <td>0.0</td>\n",
       "    </tr>\n",
       "    <tr>\n",
       "      <th>7</th>\n",
       "      <td>M Shami</td>\n",
       "      <td>4</td>\n",
       "      <td>3</td>\n",
       "      <td>4.0</td>\n",
       "      <td>0</td>\n",
       "      <td>2</td>\n",
       "      <td>6</td>\n",
       "      <td>1</td>\n",
       "      <td>33.33</td>\n",
       "      <td>0.0</td>\n",
       "      <td>...</td>\n",
       "      <td>0</td>\n",
       "      <td>0</td>\n",
       "      <td>35.1</td>\n",
       "      <td>14.0</td>\n",
       "      <td>3.0</td>\n",
       "      <td>193.0</td>\n",
       "      <td>13.78</td>\n",
       "      <td>0.66</td>\n",
       "      <td>1.0</td>\n",
       "      <td>2.0</td>\n",
       "    </tr>\n",
       "    <tr>\n",
       "      <th>8</th>\n",
       "      <td>MS Dhoni</td>\n",
       "      <td>9</td>\n",
       "      <td>8</td>\n",
       "      <td>0.0</td>\n",
       "      <td>2</td>\n",
       "      <td>273</td>\n",
       "      <td>311</td>\n",
       "      <td>56/</td>\n",
       "      <td>87.78</td>\n",
       "      <td>0.0</td>\n",
       "      <td>...</td>\n",
       "      <td>20</td>\n",
       "      <td>5</td>\n",
       "      <td>0.0</td>\n",
       "      <td>0.0</td>\n",
       "      <td>7.0</td>\n",
       "      <td>0.0</td>\n",
       "      <td>0.00</td>\n",
       "      <td>45.50</td>\n",
       "      <td>0.0</td>\n",
       "      <td>0.0</td>\n",
       "    </tr>\n",
       "    <tr>\n",
       "      <th>9</th>\n",
       "      <td>R Jadeja</td>\n",
       "      <td>2</td>\n",
       "      <td>1</td>\n",
       "      <td>2.0</td>\n",
       "      <td>0</td>\n",
       "      <td>77</td>\n",
       "      <td>59</td>\n",
       "      <td>77</td>\n",
       "      <td>130.50</td>\n",
       "      <td>0.0</td>\n",
       "      <td>...</td>\n",
       "      <td>4</td>\n",
       "      <td>4</td>\n",
       "      <td>20.0</td>\n",
       "      <td>2.0</td>\n",
       "      <td>3.0</td>\n",
       "      <td>74.0</td>\n",
       "      <td>37.00</td>\n",
       "      <td>77.00</td>\n",
       "      <td>0.0</td>\n",
       "      <td>0.0</td>\n",
       "    </tr>\n",
       "    <tr>\n",
       "      <th>10</th>\n",
       "      <td>R Pant</td>\n",
       "      <td>4</td>\n",
       "      <td>4</td>\n",
       "      <td>0.0</td>\n",
       "      <td>0</td>\n",
       "      <td>116</td>\n",
       "      <td>130</td>\n",
       "      <td>48</td>\n",
       "      <td>89.23</td>\n",
       "      <td>0.0</td>\n",
       "      <td>...</td>\n",
       "      <td>15</td>\n",
       "      <td>1</td>\n",
       "      <td>0.0</td>\n",
       "      <td>0.0</td>\n",
       "      <td>1.0</td>\n",
       "      <td>0.0</td>\n",
       "      <td>0.00</td>\n",
       "      <td>29.00</td>\n",
       "      <td>0.0</td>\n",
       "      <td>0.0</td>\n",
       "    </tr>\n",
       "    <tr>\n",
       "      <th>11</th>\n",
       "      <td>R Sharma</td>\n",
       "      <td>9</td>\n",
       "      <td>9</td>\n",
       "      <td>0.0</td>\n",
       "      <td>1</td>\n",
       "      <td>648</td>\n",
       "      <td>659</td>\n",
       "      <td>140</td>\n",
       "      <td>98.33</td>\n",
       "      <td>5.0</td>\n",
       "      <td>...</td>\n",
       "      <td>67</td>\n",
       "      <td>14</td>\n",
       "      <td>0.0</td>\n",
       "      <td>0.0</td>\n",
       "      <td>4.0</td>\n",
       "      <td>0.0</td>\n",
       "      <td>0.00</td>\n",
       "      <td>81.00</td>\n",
       "      <td>0.0</td>\n",
       "      <td>0.0</td>\n",
       "    </tr>\n",
       "    <tr>\n",
       "      <th>12</th>\n",
       "      <td>S Dhawan</td>\n",
       "      <td>2</td>\n",
       "      <td>2</td>\n",
       "      <td>0.0</td>\n",
       "      <td>0</td>\n",
       "      <td>125</td>\n",
       "      <td>121</td>\n",
       "      <td>117</td>\n",
       "      <td>103.30</td>\n",
       "      <td>1.0</td>\n",
       "      <td>...</td>\n",
       "      <td>17</td>\n",
       "      <td>0</td>\n",
       "      <td>0.0</td>\n",
       "      <td>0.0</td>\n",
       "      <td>0.0</td>\n",
       "      <td>0.0</td>\n",
       "      <td>0.00</td>\n",
       "      <td>62.50</td>\n",
       "      <td>0.0</td>\n",
       "      <td>0.0</td>\n",
       "    </tr>\n",
       "    <tr>\n",
       "      <th>13</th>\n",
       "      <td>V Kohli</td>\n",
       "      <td>9</td>\n",
       "      <td>9</td>\n",
       "      <td>0.0</td>\n",
       "      <td>1</td>\n",
       "      <td>443</td>\n",
       "      <td>471</td>\n",
       "      <td>82</td>\n",
       "      <td>94.05</td>\n",
       "      <td>0.0</td>\n",
       "      <td>...</td>\n",
       "      <td>38</td>\n",
       "      <td>2</td>\n",
       "      <td>0.0</td>\n",
       "      <td>0.0</td>\n",
       "      <td>6.0</td>\n",
       "      <td>0.0</td>\n",
       "      <td>0.00</td>\n",
       "      <td>55.37</td>\n",
       "      <td>0.0</td>\n",
       "      <td>0.0</td>\n",
       "    </tr>\n",
       "    <tr>\n",
       "      <th>14</th>\n",
       "      <td>V Shankar</td>\n",
       "      <td>3</td>\n",
       "      <td>3</td>\n",
       "      <td>1.0</td>\n",
       "      <td>1</td>\n",
       "      <td>58</td>\n",
       "      <td>75</td>\n",
       "      <td>29</td>\n",
       "      <td>77.33</td>\n",
       "      <td>0.0</td>\n",
       "      <td>...</td>\n",
       "      <td>6</td>\n",
       "      <td>0</td>\n",
       "      <td>5.2</td>\n",
       "      <td>2.0</td>\n",
       "      <td>2.0</td>\n",
       "      <td>22.0</td>\n",
       "      <td>11.00</td>\n",
       "      <td>29.00</td>\n",
       "      <td>0.0</td>\n",
       "      <td>0.0</td>\n",
       "    </tr>\n",
       "    <tr>\n",
       "      <th>15</th>\n",
       "      <td>Y Chahal</td>\n",
       "      <td>8</td>\n",
       "      <td>1</td>\n",
       "      <td>8.0</td>\n",
       "      <td>0</td>\n",
       "      <td>5</td>\n",
       "      <td>5</td>\n",
       "      <td>5</td>\n",
       "      <td>100.00</td>\n",
       "      <td>0.0</td>\n",
       "      <td>...</td>\n",
       "      <td>1</td>\n",
       "      <td>0</td>\n",
       "      <td>74.0</td>\n",
       "      <td>12.0</td>\n",
       "      <td>4.0</td>\n",
       "      <td>442.0</td>\n",
       "      <td>36.83</td>\n",
       "      <td>5.00</td>\n",
       "      <td>0.0</td>\n",
       "      <td>0.0</td>\n",
       "    </tr>\n",
       "  </tbody>\n",
       "</table>\n",
       "<p>16 rows × 22 columns</p>\n",
       "</div>"
      ],
      "text/plain": [
       "        Player  Mat  Bat_Inn  Bowl_Inn  Not_Out  Runs   BF   HS      SR  100  \\\n",
       "0      B Kumar    6        2       6.0        0     2    4    2   50.00  0.0   \n",
       "1     H Pandya    9        9       9.0        2   226  201   48  112.43  0.0   \n",
       "2     J Bumrah    9        3       9.0        3     1    1   1/  100.00  0.0   \n",
       "3     K Jadhav    6        5       3.0        3    80   99   52   80.80  0.0   \n",
       "4      K Yadav    7        2       7.0        2     1    2   1/   50.00  0.0   \n",
       "5   KD Karthik    3        2       0.0        0    14   34    8   41.17  0.0   \n",
       "6     KL Rahul    9        9       0.0        1   361  466  111   77.46  1.0   \n",
       "7      M Shami    4        3       4.0        0     2    6    1   33.33  0.0   \n",
       "8     MS Dhoni    9        8       0.0        2   273  311  56/   87.78  0.0   \n",
       "9     R Jadeja    2        1       2.0        0    77   59   77  130.50  0.0   \n",
       "10      R Pant    4        4       0.0        0   116  130   48   89.23  0.0   \n",
       "11    R Sharma    9        9       0.0        1   648  659  140   98.33  5.0   \n",
       "12    S Dhawan    2        2       0.0        0   125  121  117  103.30  1.0   \n",
       "13     V Kohli    9        9       0.0        1   443  471   82   94.05  0.0   \n",
       "14   V Shankar    3        3       1.0        1    58   75   29   77.33  0.0   \n",
       "15    Y Chahal    8        1       8.0        0     5    5    5  100.00  0.0   \n",
       "\n",
       "    ...  4s  6s  O_Bowled  Wkts_Taken  Catches  Runs_Conceded  Bowl_Avg  \\\n",
       "0   ...   0   0      51.4        10.0      1.0          269.0     26.90   \n",
       "1   ...  21   4      79.0        10.0      3.0          447.0     44.70   \n",
       "2   ...   0   0      84.0        18.0      1.0          371.0     20.61   \n",
       "3   ...   6   1       6.0         0.0      4.0           34.0      0.00   \n",
       "4   ...   0   0      67.0         6.0      0.0          337.0     56.16   \n",
       "5   ...   2   0       0.0         0.0      3.0            0.0      0.00   \n",
       "6   ...  31   5       0.0         0.0      1.0            0.0      0.00   \n",
       "7   ...   0   0      35.1        14.0      3.0          193.0     13.78   \n",
       "8   ...  20   5       0.0         0.0      7.0            0.0      0.00   \n",
       "9   ...   4   4      20.0         2.0      3.0           74.0     37.00   \n",
       "10  ...  15   1       0.0         0.0      1.0            0.0      0.00   \n",
       "11  ...  67  14       0.0         0.0      4.0            0.0      0.00   \n",
       "12  ...  17   0       0.0         0.0      0.0            0.0      0.00   \n",
       "13  ...  38   2       0.0         0.0      6.0            0.0      0.00   \n",
       "14  ...   6   0       5.2         2.0      2.0           22.0     11.00   \n",
       "15  ...   1   0      74.0        12.0      4.0          442.0     36.83   \n",
       "\n",
       "    Bat_Avg  Wkt-5  Maidens  \n",
       "0      1.00    0.0      1.0  \n",
       "1     32.28    0.0      1.0  \n",
       "2      0.00    0.0      9.0  \n",
       "3     40.00    0.0      0.0  \n",
       "4      0.00    0.0      2.0  \n",
       "5      7.00    0.0      0.0  \n",
       "6     45.12    0.0      0.0  \n",
       "7      0.66    1.0      2.0  \n",
       "8     45.50    0.0      0.0  \n",
       "9     77.00    0.0      0.0  \n",
       "10    29.00    0.0      0.0  \n",
       "11    81.00    0.0      0.0  \n",
       "12    62.50    0.0      0.0  \n",
       "13    55.37    0.0      0.0  \n",
       "14    29.00    0.0      0.0  \n",
       "15     5.00    0.0      0.0  \n",
       "\n",
       "[16 rows x 22 columns]"
      ]
     },
     "execution_count": 11,
     "metadata": {},
     "output_type": "execute_result"
    }
   ],
   "source": [
    "dataset"
   ]
  },
  {
   "cell_type": "code",
   "execution_count": 12,
   "id": "afdc8ae9",
   "metadata": {},
   "outputs": [
    {
     "data": {
      "text/plain": [
       "Player           0\n",
       "Mat              0\n",
       "Bat_Inn          0\n",
       "Bowl_Inn         0\n",
       "Not_Out          0\n",
       "Runs             0\n",
       "BF               0\n",
       "HS               0\n",
       "SR               0\n",
       "100              0\n",
       "50               0\n",
       "0                0\n",
       "4s               0\n",
       "6s               0\n",
       "O_Bowled         0\n",
       "Wkts_Taken       0\n",
       "Catches          0\n",
       "Runs_Conceded    0\n",
       "Bowl_Avg         0\n",
       "Bat_Avg          0\n",
       "Wkt-5            0\n",
       "Maidens          0\n",
       "dtype: int64"
      ]
     },
     "execution_count": 12,
     "metadata": {},
     "output_type": "execute_result"
    }
   ],
   "source": [
    "dataset.isnull().sum()"
   ]
  },
  {
   "cell_type": "markdown",
   "id": "06c06b57",
   "metadata": {},
   "source": [
    "#### >> Hence, after Pre-processing the data we have No Null values present"
   ]
  },
  {
   "cell_type": "markdown",
   "id": "69ea14f8",
   "metadata": {},
   "source": [
    "## Data Visualisation"
   ]
  },
  {
   "cell_type": "markdown",
   "id": "1e16f55b",
   "metadata": {},
   "source": [
    "### *From the Batting perspective*"
   ]
  },
  {
   "cell_type": "markdown",
   "id": "89bd26b7",
   "metadata": {},
   "source": [
    "### Players with most NOT OUT's"
   ]
  },
  {
   "cell_type": "code",
   "execution_count": 13,
   "id": "d0730c95",
   "metadata": {},
   "outputs": [
    {
     "data": {
      "text/plain": [
       "<Axes: xlabel='Player', ylabel='Not_Out'>"
      ]
     },
     "execution_count": 13,
     "metadata": {},
     "output_type": "execute_result"
    },
    {
     "data": {
      "image/png": "[encoded data removed]",
      "text/plain": [
       "<Figure size 1500x700 with 1 Axes>"
      ]
     },
     "metadata": {},
     "output_type": "display_data"
    }
   ],
   "source": [
    "plt.figure(figsize=(15,7))\n",
    "sns.barplot(data=dataset,x='Player',y='Not_Out')"
   ]
  },
  {
   "cell_type": "markdown",
   "id": "4d64b9bd",
   "metadata": {},
   "source": [
    "### Players and Runs scored by them"
   ]
  },
  {
   "cell_type": "code",
   "execution_count": 14,
   "id": "57b66d1e",
   "metadata": {},
   "outputs": [
    {
     "data": {
      "text/plain": [
       "<Axes: xlabel='Player', ylabel='Runs'>"
      ]
     },
     "execution_count": 14,
     "metadata": {},
     "output_type": "execute_result"
    },
    {
     "data": {
      "image/png": "[encoded data removed]",
      "text/plain": [
       "<Figure size 1500x700 with 1 Axes>"
      ]
     },
     "metadata": {},
     "output_type": "display_data"
    }
   ],
   "source": [
    "plt.figure(figsize=(15,7))\n",
    "sns.barplot(data=dataset,x='Player',y='Runs')"
   ]
  },
  {
   "cell_type": "code",
   "execution_count": 15,
   "id": "3335d00a",
   "metadata": {},
   "outputs": [
    {
     "data": {
      "text/html": [
       "<div>\n",
       "<style scoped>\n",
       "    .dataframe tbody tr th:only-of-type {\n",
       "        vertical-align: middle;\n",
       "    }\n",
       "\n",
       "    .dataframe tbody tr th {\n",
       "        vertical-align: top;\n",
       "    }\n",
       "\n",
       "    .dataframe thead th {\n",
       "        text-align: right;\n",
       "    }\n",
       "</style>\n",
       "<table border=\"1\" class=\"dataframe\">\n",
       "  <thead>\n",
       "    <tr style=\"text-align: right;\">\n",
       "      <th></th>\n",
       "      <th>Player</th>\n",
       "      <th>Mat</th>\n",
       "      <th>Bat_Inn</th>\n",
       "      <th>Bowl_Inn</th>\n",
       "      <th>Not_Out</th>\n",
       "      <th>Runs</th>\n",
       "      <th>BF</th>\n",
       "      <th>HS</th>\n",
       "      <th>SR</th>\n",
       "      <th>100</th>\n",
       "      <th>...</th>\n",
       "      <th>4s</th>\n",
       "      <th>6s</th>\n",
       "      <th>O_Bowled</th>\n",
       "      <th>Wkts_Taken</th>\n",
       "      <th>Catches</th>\n",
       "      <th>Runs_Conceded</th>\n",
       "      <th>Bowl_Avg</th>\n",
       "      <th>Bat_Avg</th>\n",
       "      <th>Wkt-5</th>\n",
       "      <th>Maidens</th>\n",
       "    </tr>\n",
       "  </thead>\n",
       "  <tbody>\n",
       "    <tr>\n",
       "      <th>11</th>\n",
       "      <td>R Sharma</td>\n",
       "      <td>9</td>\n",
       "      <td>9</td>\n",
       "      <td>0.0</td>\n",
       "      <td>1</td>\n",
       "      <td>648</td>\n",
       "      <td>659</td>\n",
       "      <td>140</td>\n",
       "      <td>98.33</td>\n",
       "      <td>5.0</td>\n",
       "      <td>...</td>\n",
       "      <td>67</td>\n",
       "      <td>14</td>\n",
       "      <td>0.0</td>\n",
       "      <td>0.0</td>\n",
       "      <td>4.0</td>\n",
       "      <td>0.0</td>\n",
       "      <td>0.0</td>\n",
       "      <td>81.0</td>\n",
       "      <td>0.0</td>\n",
       "      <td>0.0</td>\n",
       "    </tr>\n",
       "  </tbody>\n",
       "</table>\n",
       "<p>1 rows × 22 columns</p>\n",
       "</div>"
      ],
      "text/plain": [
       "      Player  Mat  Bat_Inn  Bowl_Inn  Not_Out  Runs   BF   HS     SR  100  \\\n",
       "11  R Sharma    9        9       0.0        1   648  659  140  98.33  5.0   \n",
       "\n",
       "    ...  4s  6s  O_Bowled  Wkts_Taken  Catches  Runs_Conceded  Bowl_Avg  \\\n",
       "11  ...  67  14       0.0         0.0      4.0            0.0       0.0   \n",
       "\n",
       "    Bat_Avg  Wkt-5  Maidens  \n",
       "11     81.0    0.0      0.0  \n",
       "\n",
       "[1 rows x 22 columns]"
      ]
     },
     "execution_count": 15,
     "metadata": {},
     "output_type": "execute_result"
    }
   ],
   "source": [
    "dataset[dataset.Runs == dataset.Runs.max()]"
   ]
  },
  {
   "cell_type": "markdown",
   "id": "b04186f6",
   "metadata": {},
   "source": [
    "#### >> Rohit Sharma was Highest Run scorer from India in World Cup 2019"
   ]
  },
  {
   "cell_type": "markdown",
   "id": "8ed805cb",
   "metadata": {},
   "source": [
    "### Players and their Strike Rate"
   ]
  },
  {
   "cell_type": "code",
   "execution_count": 16,
   "id": "fbb32f3d",
   "metadata": {},
   "outputs": [
    {
     "data": {
      "text/plain": [
       "<Axes: xlabel='Player', ylabel='SR'>"
      ]
     },
     "execution_count": 16,
     "metadata": {},
     "output_type": "execute_result"
    },
    {
     "data": {
      "image/png": "[encoded data removed]",
      "text/plain": [
       "<Figure size 1500x700 with 1 Axes>"
      ]
     },
     "metadata": {},
     "output_type": "display_data"
    }
   ],
   "source": [
    "plt.figure(figsize=(15,7))\n",
    "sns.barplot(data=dataset,x='Player',y='SR')"
   ]
  },
  {
   "cell_type": "code",
   "execution_count": 17,
   "id": "9628be52",
   "metadata": {},
   "outputs": [
    {
     "data": {
      "text/html": [
       "<div>\n",
       "<style scoped>\n",
       "    .dataframe tbody tr th:only-of-type {\n",
       "        vertical-align: middle;\n",
       "    }\n",
       "\n",
       "    .dataframe tbody tr th {\n",
       "        vertical-align: top;\n",
       "    }\n",
       "\n",
       "    .dataframe thead th {\n",
       "        text-align: right;\n",
       "    }\n",
       "</style>\n",
       "<table border=\"1\" class=\"dataframe\">\n",
       "  <thead>\n",
       "    <tr style=\"text-align: right;\">\n",
       "      <th></th>\n",
       "      <th>Player</th>\n",
       "      <th>Mat</th>\n",
       "      <th>Bat_Inn</th>\n",
       "      <th>Bowl_Inn</th>\n",
       "      <th>Not_Out</th>\n",
       "      <th>Runs</th>\n",
       "      <th>BF</th>\n",
       "      <th>HS</th>\n",
       "      <th>SR</th>\n",
       "      <th>100</th>\n",
       "      <th>...</th>\n",
       "      <th>4s</th>\n",
       "      <th>6s</th>\n",
       "      <th>O_Bowled</th>\n",
       "      <th>Wkts_Taken</th>\n",
       "      <th>Catches</th>\n",
       "      <th>Runs_Conceded</th>\n",
       "      <th>Bowl_Avg</th>\n",
       "      <th>Bat_Avg</th>\n",
       "      <th>Wkt-5</th>\n",
       "      <th>Maidens</th>\n",
       "    </tr>\n",
       "  </thead>\n",
       "  <tbody>\n",
       "    <tr>\n",
       "      <th>9</th>\n",
       "      <td>R Jadeja</td>\n",
       "      <td>2</td>\n",
       "      <td>1</td>\n",
       "      <td>2.0</td>\n",
       "      <td>0</td>\n",
       "      <td>77</td>\n",
       "      <td>59</td>\n",
       "      <td>77</td>\n",
       "      <td>130.5</td>\n",
       "      <td>0.0</td>\n",
       "      <td>...</td>\n",
       "      <td>4</td>\n",
       "      <td>4</td>\n",
       "      <td>20.0</td>\n",
       "      <td>2.0</td>\n",
       "      <td>3.0</td>\n",
       "      <td>74.0</td>\n",
       "      <td>37.0</td>\n",
       "      <td>77.0</td>\n",
       "      <td>0.0</td>\n",
       "      <td>0.0</td>\n",
       "    </tr>\n",
       "  </tbody>\n",
       "</table>\n",
       "<p>1 rows × 22 columns</p>\n",
       "</div>"
      ],
      "text/plain": [
       "     Player  Mat  Bat_Inn  Bowl_Inn  Not_Out  Runs  BF  HS     SR  100  ...  \\\n",
       "9  R Jadeja    2        1       2.0        0    77  59  77  130.5  0.0  ...   \n",
       "\n",
       "   4s  6s  O_Bowled  Wkts_Taken  Catches  Runs_Conceded  Bowl_Avg  Bat_Avg  \\\n",
       "9   4   4      20.0         2.0      3.0           74.0      37.0     77.0   \n",
       "\n",
       "   Wkt-5  Maidens  \n",
       "9    0.0      0.0  \n",
       "\n",
       "[1 rows x 22 columns]"
      ]
     },
     "execution_count": 17,
     "metadata": {},
     "output_type": "execute_result"
    }
   ],
   "source": [
    "dataset[dataset.SR == dataset.SR.max()]"
   ]
  },
  {
   "cell_type": "code",
   "execution_count": 18,
   "id": "7b13b27d",
   "metadata": {},
   "outputs": [
    {
     "data": {
      "text/html": [
       "<div>\n",
       "<style scoped>\n",
       "    .dataframe tbody tr th:only-of-type {\n",
       "        vertical-align: middle;\n",
       "    }\n",
       "\n",
       "    .dataframe tbody tr th {\n",
       "        vertical-align: top;\n",
       "    }\n",
       "\n",
       "    .dataframe thead th {\n",
       "        text-align: right;\n",
       "    }\n",
       "</style>\n",
       "<table border=\"1\" class=\"dataframe\">\n",
       "  <thead>\n",
       "    <tr style=\"text-align: right;\">\n",
       "      <th></th>\n",
       "      <th>Player</th>\n",
       "      <th>Mat</th>\n",
       "      <th>Bat_Inn</th>\n",
       "      <th>Bowl_Inn</th>\n",
       "      <th>Not_Out</th>\n",
       "      <th>Runs</th>\n",
       "      <th>BF</th>\n",
       "      <th>HS</th>\n",
       "      <th>SR</th>\n",
       "      <th>100</th>\n",
       "      <th>...</th>\n",
       "      <th>4s</th>\n",
       "      <th>6s</th>\n",
       "      <th>O_Bowled</th>\n",
       "      <th>Wkts_Taken</th>\n",
       "      <th>Catches</th>\n",
       "      <th>Runs_Conceded</th>\n",
       "      <th>Bowl_Avg</th>\n",
       "      <th>Bat_Avg</th>\n",
       "      <th>Wkt-5</th>\n",
       "      <th>Maidens</th>\n",
       "    </tr>\n",
       "  </thead>\n",
       "  <tbody>\n",
       "    <tr>\n",
       "      <th>7</th>\n",
       "      <td>M Shami</td>\n",
       "      <td>4</td>\n",
       "      <td>3</td>\n",
       "      <td>4.0</td>\n",
       "      <td>0</td>\n",
       "      <td>2</td>\n",
       "      <td>6</td>\n",
       "      <td>1</td>\n",
       "      <td>33.33</td>\n",
       "      <td>0.0</td>\n",
       "      <td>...</td>\n",
       "      <td>0</td>\n",
       "      <td>0</td>\n",
       "      <td>35.1</td>\n",
       "      <td>14.0</td>\n",
       "      <td>3.0</td>\n",
       "      <td>193.0</td>\n",
       "      <td>13.78</td>\n",
       "      <td>0.66</td>\n",
       "      <td>1.0</td>\n",
       "      <td>2.0</td>\n",
       "    </tr>\n",
       "  </tbody>\n",
       "</table>\n",
       "<p>1 rows × 22 columns</p>\n",
       "</div>"
      ],
      "text/plain": [
       "    Player  Mat  Bat_Inn  Bowl_Inn  Not_Out  Runs  BF HS     SR  100  ...  4s  \\\n",
       "7  M Shami    4        3       4.0        0     2   6  1  33.33  0.0  ...   0   \n",
       "\n",
       "   6s  O_Bowled  Wkts_Taken  Catches  Runs_Conceded  Bowl_Avg  Bat_Avg  Wkt-5  \\\n",
       "7   0      35.1        14.0      3.0          193.0     13.78     0.66    1.0   \n",
       "\n",
       "   Maidens  \n",
       "7      2.0  \n",
       "\n",
       "[1 rows x 22 columns]"
      ]
     },
     "execution_count": 18,
     "metadata": {},
     "output_type": "execute_result"
    }
   ],
   "source": [
    "dataset[dataset.SR==dataset.SR.min()]"
   ]
  },
  {
   "cell_type": "markdown",
   "id": "6863afc2",
   "metadata": {},
   "source": [
    "#### >> Ravindra Jadeja had highest, whereas Mohammad Shami had lowest Strike Rate amongst all players"
   ]
  },
  {
   "cell_type": "markdown",
   "id": "5e65375d",
   "metadata": {},
   "source": [
    "### Centuries scored"
   ]
  },
  {
   "cell_type": "code",
   "execution_count": 19,
   "id": "16eedf73",
   "metadata": {},
   "outputs": [
    {
     "data": {
      "text/plain": [
       "<Axes: xlabel='Player', ylabel='100'>"
      ]
     },
     "execution_count": 19,
     "metadata": {},
     "output_type": "execute_result"
    },
    {
     "data": {
      "image/png": "[encoded data removed]",
      "text/plain": [
       "<Figure size 1500x700 with 1 Axes>"
      ]
     },
     "metadata": {},
     "output_type": "display_data"
    }
   ],
   "source": [
    "plt.figure(figsize=(15,7))\n",
    "sns.barplot(x='Player',y='100',data=dataset)"
   ]
  },
  {
   "cell_type": "markdown",
   "id": "5f246062",
   "metadata": {},
   "source": [
    "#### >> Amongst all the Players, only 3 scored centuries. Rohit Sharma tops the list with 5 centuries in the championship."
   ]
  },
  {
   "cell_type": "markdown",
   "id": "14603a3e",
   "metadata": {},
   "source": [
    "### Half Centuries scored"
   ]
  },
  {
   "cell_type": "code",
   "execution_count": 20,
   "id": "7086cb38",
   "metadata": {},
   "outputs": [
    {
     "data": {
      "text/plain": [
       "<Axes: xlabel='Player', ylabel='50'>"
      ]
     },
     "execution_count": 20,
     "metadata": {},
     "output_type": "execute_result"
    },
    {
     "data": {
      "image/png": "[encoded data removed]",
      "text/plain": [
       "<Figure size 1500x700 with 1 Axes>"
      ]
     },
     "metadata": {},
     "output_type": "display_data"
    }
   ],
   "source": [
    "plt.figure(figsize=(15,7))\n",
    "sns.barplot(x='Player',y='50',data=dataset)"
   ]
  },
  {
   "cell_type": "markdown",
   "id": "58f33077",
   "metadata": {},
   "source": [
    "#### >> Amongst all Virat Kohli had most Half-centuries (5). MS Dhoni and KL Rahul with 2 each. Kedar Jadhav and Ravindra Jadeja with 1 each.\n",
    "#### >> Rohit Sharma has one half century as well."
   ]
  },
  {
   "cell_type": "markdown",
   "id": "341e835f",
   "metadata": {},
   "source": [
    "### Players and Boundaries"
   ]
  },
  {
   "cell_type": "code",
   "execution_count": 21,
   "id": "8b73b8fa",
   "metadata": {},
   "outputs": [
    {
     "data": {
      "text/plain": [
       "Text(0.5, 1.0, 'Player-wise 4s in championship')"
      ]
     },
     "execution_count": 21,
     "metadata": {},
     "output_type": "execute_result"
    },
    {
     "data": {
      "image/png": "[encoded data removed]",
      "text/plain": [
       "<Figure size 1500x700 with 1 Axes>"
      ]
     },
     "metadata": {},
     "output_type": "display_data"
    }
   ],
   "source": [
    "plt.figure(figsize=(15,7))\n",
    "sns.barplot(x='Player',y='4s',data=dataset)\n",
    "plt.title(\"Player-wise 4s in championship\")"
   ]
  },
  {
   "cell_type": "code",
   "execution_count": 22,
   "id": "dcba35c8",
   "metadata": {},
   "outputs": [
    {
     "data": {
      "text/plain": [
       "Text(0.5, 1.0, 'Player-wise 6s in championship')"
      ]
     },
     "execution_count": 22,
     "metadata": {},
     "output_type": "execute_result"
    },
    {
     "data": {
      "image/png": "[encoded data removed]",
      "text/plain": [
       "<Figure size 1500x700 with 1 Axes>"
      ]
     },
     "metadata": {},
     "output_type": "display_data"
    }
   ],
   "source": [
    "plt.figure(figsize=(15,7))\n",
    "sns.barplot(x='Player',y='6s',data=dataset)\n",
    "plt.title(\"Player-wise 6s in championship\")"
   ]
  },
  {
   "cell_type": "markdown",
   "id": "1c55c5b5",
   "metadata": {},
   "source": [
    "#### >> Rohit Sharma has both most 6s as well as 4s"
   ]
  },
  {
   "cell_type": "markdown",
   "id": "814a006b",
   "metadata": {},
   "source": [
    "### Players and their Batting Average"
   ]
  },
  {
   "cell_type": "code",
   "execution_count": 23,
   "id": "99369520",
   "metadata": {},
   "outputs": [
    {
     "data": {
      "text/plain": [
       "<Axes: xlabel='Player', ylabel='Bat_Avg'>"
      ]
     },
     "execution_count": 23,
     "metadata": {},
     "output_type": "execute_result"
    },
    {
     "data": {
      "image/png": "[encoded data removed]",
      "text/plain": [
       "<Figure size 1500x700 with 1 Axes>"
      ]
     },
     "metadata": {},
     "output_type": "display_data"
    }
   ],
   "source": [
    "plt.figure(figsize=(15,7))\n",
    "sns.barplot(x='Player',y='Bat_Avg',data=dataset)"
   ]
  },
  {
   "cell_type": "markdown",
   "id": "b6378f38",
   "metadata": {},
   "source": [
    "#### >> Rohit Sharma has highest Batting Average. Ravindra Jadeja also has a High Batting Average of 77.00"
   ]
  },
  {
   "cell_type": "markdown",
   "id": "5c83e508",
   "metadata": {},
   "source": [
    "### Players with Zeros in World Cup 2019"
   ]
  },
  {
   "cell_type": "code",
   "execution_count": 24,
   "id": "9e719f83",
   "metadata": {},
   "outputs": [
    {
     "data": {
      "text/html": [
       "<div>\n",
       "<style scoped>\n",
       "    .dataframe tbody tr th:only-of-type {\n",
       "        vertical-align: middle;\n",
       "    }\n",
       "\n",
       "    .dataframe tbody tr th {\n",
       "        vertical-align: top;\n",
       "    }\n",
       "\n",
       "    .dataframe thead th {\n",
       "        text-align: right;\n",
       "    }\n",
       "</style>\n",
       "<table border=\"1\" class=\"dataframe\">\n",
       "  <thead>\n",
       "    <tr style=\"text-align: right;\">\n",
       "      <th></th>\n",
       "      <th>Player</th>\n",
       "      <th>Mat</th>\n",
       "      <th>Bat_Inn</th>\n",
       "      <th>Bowl_Inn</th>\n",
       "      <th>Not_Out</th>\n",
       "      <th>Runs</th>\n",
       "      <th>BF</th>\n",
       "      <th>HS</th>\n",
       "      <th>SR</th>\n",
       "      <th>100</th>\n",
       "      <th>...</th>\n",
       "      <th>4s</th>\n",
       "      <th>6s</th>\n",
       "      <th>O_Bowled</th>\n",
       "      <th>Wkts_Taken</th>\n",
       "      <th>Catches</th>\n",
       "      <th>Runs_Conceded</th>\n",
       "      <th>Bowl_Avg</th>\n",
       "      <th>Bat_Avg</th>\n",
       "      <th>Wkt-5</th>\n",
       "      <th>Maidens</th>\n",
       "    </tr>\n",
       "  </thead>\n",
       "  <tbody>\n",
       "    <tr>\n",
       "      <th>0</th>\n",
       "      <td>B Kumar</td>\n",
       "      <td>6</td>\n",
       "      <td>2</td>\n",
       "      <td>6.0</td>\n",
       "      <td>0</td>\n",
       "      <td>2</td>\n",
       "      <td>4</td>\n",
       "      <td>2</td>\n",
       "      <td>50.00</td>\n",
       "      <td>0.0</td>\n",
       "      <td>...</td>\n",
       "      <td>0</td>\n",
       "      <td>0</td>\n",
       "      <td>51.4</td>\n",
       "      <td>10.0</td>\n",
       "      <td>1.0</td>\n",
       "      <td>269.0</td>\n",
       "      <td>26.90</td>\n",
       "      <td>1.00</td>\n",
       "      <td>0.0</td>\n",
       "      <td>1.0</td>\n",
       "    </tr>\n",
       "    <tr>\n",
       "      <th>1</th>\n",
       "      <td>H Pandya</td>\n",
       "      <td>9</td>\n",
       "      <td>9</td>\n",
       "      <td>9.0</td>\n",
       "      <td>2</td>\n",
       "      <td>226</td>\n",
       "      <td>201</td>\n",
       "      <td>48</td>\n",
       "      <td>112.43</td>\n",
       "      <td>0.0</td>\n",
       "      <td>...</td>\n",
       "      <td>21</td>\n",
       "      <td>4</td>\n",
       "      <td>79.0</td>\n",
       "      <td>10.0</td>\n",
       "      <td>3.0</td>\n",
       "      <td>447.0</td>\n",
       "      <td>44.70</td>\n",
       "      <td>32.28</td>\n",
       "      <td>0.0</td>\n",
       "      <td>1.0</td>\n",
       "    </tr>\n",
       "    <tr>\n",
       "      <th>6</th>\n",
       "      <td>KL Rahul</td>\n",
       "      <td>9</td>\n",
       "      <td>9</td>\n",
       "      <td>0.0</td>\n",
       "      <td>1</td>\n",
       "      <td>361</td>\n",
       "      <td>466</td>\n",
       "      <td>111</td>\n",
       "      <td>77.46</td>\n",
       "      <td>1.0</td>\n",
       "      <td>...</td>\n",
       "      <td>31</td>\n",
       "      <td>5</td>\n",
       "      <td>0.0</td>\n",
       "      <td>0.0</td>\n",
       "      <td>1.0</td>\n",
       "      <td>0.0</td>\n",
       "      <td>0.00</td>\n",
       "      <td>45.12</td>\n",
       "      <td>0.0</td>\n",
       "      <td>0.0</td>\n",
       "    </tr>\n",
       "    <tr>\n",
       "      <th>7</th>\n",
       "      <td>M Shami</td>\n",
       "      <td>4</td>\n",
       "      <td>3</td>\n",
       "      <td>4.0</td>\n",
       "      <td>0</td>\n",
       "      <td>2</td>\n",
       "      <td>6</td>\n",
       "      <td>1</td>\n",
       "      <td>33.33</td>\n",
       "      <td>0.0</td>\n",
       "      <td>...</td>\n",
       "      <td>0</td>\n",
       "      <td>0</td>\n",
       "      <td>35.1</td>\n",
       "      <td>14.0</td>\n",
       "      <td>3.0</td>\n",
       "      <td>193.0</td>\n",
       "      <td>13.78</td>\n",
       "      <td>0.66</td>\n",
       "      <td>1.0</td>\n",
       "      <td>2.0</td>\n",
       "    </tr>\n",
       "  </tbody>\n",
       "</table>\n",
       "<p>4 rows × 22 columns</p>\n",
       "</div>"
      ],
      "text/plain": [
       "     Player  Mat  Bat_Inn  Bowl_Inn  Not_Out  Runs   BF   HS      SR  100  \\\n",
       "0   B Kumar    6        2       6.0        0     2    4    2   50.00  0.0   \n",
       "1  H Pandya    9        9       9.0        2   226  201   48  112.43  0.0   \n",
       "6  KL Rahul    9        9       0.0        1   361  466  111   77.46  1.0   \n",
       "7   M Shami    4        3       4.0        0     2    6    1   33.33  0.0   \n",
       "\n",
       "   ...  4s  6s  O_Bowled  Wkts_Taken  Catches  Runs_Conceded  Bowl_Avg  \\\n",
       "0  ...   0   0      51.4        10.0      1.0          269.0     26.90   \n",
       "1  ...  21   4      79.0        10.0      3.0          447.0     44.70   \n",
       "6  ...  31   5       0.0         0.0      1.0            0.0      0.00   \n",
       "7  ...   0   0      35.1        14.0      3.0          193.0     13.78   \n",
       "\n",
       "   Bat_Avg  Wkt-5  Maidens  \n",
       "0     1.00    0.0      1.0  \n",
       "1    32.28    0.0      1.0  \n",
       "6    45.12    0.0      0.0  \n",
       "7     0.66    1.0      2.0  \n",
       "\n",
       "[4 rows x 22 columns]"
      ]
     },
     "execution_count": 24,
     "metadata": {},
     "output_type": "execute_result"
    }
   ],
   "source": [
    "dataset[dataset['0']==dataset['0'].max()]"
   ]
  },
  {
   "cell_type": "markdown",
   "id": "d2d41e3b",
   "metadata": {},
   "source": [
    "### *From Bowling perspective*"
   ]
  },
  {
   "cell_type": "markdown",
   "id": "b4720ba6",
   "metadata": {},
   "source": [
    "### Wickets Taken by Players"
   ]
  },
  {
   "cell_type": "code",
   "execution_count": 25,
   "id": "56793c12",
   "metadata": {},
   "outputs": [
    {
     "data": {
      "text/plain": [
       "<Axes: xlabel='Player', ylabel='Wkts_Taken'>"
      ]
     },
     "execution_count": 25,
     "metadata": {},
     "output_type": "execute_result"
    },
    {
     "data": {
      "image/png": "[encoded data removed]",
      "text/plain": [
       "<Figure size 1500x700 with 1 Axes>"
      ]
     },
     "metadata": {},
     "output_type": "display_data"
    }
   ],
   "source": [
    "plt.figure(figsize=(15,7))\n",
    "sns.barplot(x='Player',y='Wkts_Taken',data=dataset)"
   ]
  },
  {
   "cell_type": "markdown",
   "id": "1304c23b",
   "metadata": {},
   "source": [
    "#### >> Jasprit Bumrah is the highest wicket taker. Followed by Mohammad Shami and Yuzvendra Chahal"
   ]
  },
  {
   "cell_type": "markdown",
   "id": "73c34520",
   "metadata": {},
   "source": [
    "### Players with 5 wicket haul"
   ]
  },
  {
   "cell_type": "code",
   "execution_count": 26,
   "id": "9f0afc17",
   "metadata": {},
   "outputs": [
    {
     "data": {
      "text/html": [
       "<div>\n",
       "<style scoped>\n",
       "    .dataframe tbody tr th:only-of-type {\n",
       "        vertical-align: middle;\n",
       "    }\n",
       "\n",
       "    .dataframe tbody tr th {\n",
       "        vertical-align: top;\n",
       "    }\n",
       "\n",
       "    .dataframe thead th {\n",
       "        text-align: right;\n",
       "    }\n",
       "</style>\n",
       "<table border=\"1\" class=\"dataframe\">\n",
       "  <thead>\n",
       "    <tr style=\"text-align: right;\">\n",
       "      <th></th>\n",
       "      <th>Player</th>\n",
       "      <th>Mat</th>\n",
       "      <th>Bat_Inn</th>\n",
       "      <th>Bowl_Inn</th>\n",
       "      <th>Not_Out</th>\n",
       "      <th>Runs</th>\n",
       "      <th>BF</th>\n",
       "      <th>HS</th>\n",
       "      <th>SR</th>\n",
       "      <th>100</th>\n",
       "      <th>...</th>\n",
       "      <th>4s</th>\n",
       "      <th>6s</th>\n",
       "      <th>O_Bowled</th>\n",
       "      <th>Wkts_Taken</th>\n",
       "      <th>Catches</th>\n",
       "      <th>Runs_Conceded</th>\n",
       "      <th>Bowl_Avg</th>\n",
       "      <th>Bat_Avg</th>\n",
       "      <th>Wkt-5</th>\n",
       "      <th>Maidens</th>\n",
       "    </tr>\n",
       "  </thead>\n",
       "  <tbody>\n",
       "    <tr>\n",
       "      <th>7</th>\n",
       "      <td>M Shami</td>\n",
       "      <td>4</td>\n",
       "      <td>3</td>\n",
       "      <td>4.0</td>\n",
       "      <td>0</td>\n",
       "      <td>2</td>\n",
       "      <td>6</td>\n",
       "      <td>1</td>\n",
       "      <td>33.33</td>\n",
       "      <td>0.0</td>\n",
       "      <td>...</td>\n",
       "      <td>0</td>\n",
       "      <td>0</td>\n",
       "      <td>35.1</td>\n",
       "      <td>14.0</td>\n",
       "      <td>3.0</td>\n",
       "      <td>193.0</td>\n",
       "      <td>13.78</td>\n",
       "      <td>0.66</td>\n",
       "      <td>1.0</td>\n",
       "      <td>2.0</td>\n",
       "    </tr>\n",
       "  </tbody>\n",
       "</table>\n",
       "<p>1 rows × 22 columns</p>\n",
       "</div>"
      ],
      "text/plain": [
       "    Player  Mat  Bat_Inn  Bowl_Inn  Not_Out  Runs  BF HS     SR  100  ...  4s  \\\n",
       "7  M Shami    4        3       4.0        0     2   6  1  33.33  0.0  ...   0   \n",
       "\n",
       "   6s  O_Bowled  Wkts_Taken  Catches  Runs_Conceded  Bowl_Avg  Bat_Avg  Wkt-5  \\\n",
       "7   0      35.1        14.0      3.0          193.0     13.78     0.66    1.0   \n",
       "\n",
       "   Maidens  \n",
       "7      2.0  \n",
       "\n",
       "[1 rows x 22 columns]"
      ]
     },
     "execution_count": 26,
     "metadata": {},
     "output_type": "execute_result"
    }
   ],
   "source": [
    "dataset[dataset['Wkt-5'] == dataset['Wkt-5'].max()]"
   ]
  },
  {
   "cell_type": "markdown",
   "id": "b6434fda",
   "metadata": {},
   "source": [
    "#### >> Only Mohammad Shami has a 5 wicket haul in the championship."
   ]
  },
  {
   "cell_type": "markdown",
   "id": "c5737f90",
   "metadata": {},
   "source": [
    "### Player-wise Bowling Average"
   ]
  },
  {
   "cell_type": "code",
   "execution_count": 27,
   "id": "d7a8d17e",
   "metadata": {},
   "outputs": [
    {
     "data": {
      "text/plain": [
       "<Axes: xlabel='Player', ylabel='Bowl_Avg'>"
      ]
     },
     "execution_count": 27,
     "metadata": {},
     "output_type": "execute_result"
    },
    {
     "data": {
      "image/png": "[encoded data removed]",
      "text/plain": [
       "<Figure size 1500x700 with 1 Axes>"
      ]
     },
     "metadata": {},
     "output_type": "display_data"
    }
   ],
   "source": [
    "plt.figure(figsize=(15,7))\n",
    "sns.barplot(x='Player',y='Bowl_Avg',data=dataset)"
   ]
  },
  {
   "cell_type": "markdown",
   "id": "a30bc5fa",
   "metadata": {},
   "source": [
    "#### >>For Bowling average stands for the number of runs a bowler conceded before picking up a wicket. Hence, the lower average is preferred.\n",
    "#### >>Hence Vijay Shankar has best bowling average whereas Kuldeep Yadav has a contrary."
   ]
  },
  {
   "cell_type": "markdown",
   "id": "1d6f3a56",
   "metadata": {},
   "source": [
    "### Maidens by a bowler"
   ]
  },
  {
   "cell_type": "code",
   "execution_count": 28,
   "id": "b5956f03",
   "metadata": {},
   "outputs": [
    {
     "data": {
      "text/plain": [
       "<Axes: xlabel='Player', ylabel='Maidens'>"
      ]
     },
     "execution_count": 28,
     "metadata": {},
     "output_type": "execute_result"
    },
    {
     "data": {
      "image/png": "[encoded data removed]",
      "text/plain": [
       "<Figure size 1500x700 with 1 Axes>"
      ]
     },
     "metadata": {},
     "output_type": "display_data"
    }
   ],
   "source": [
    "plt.figure(figsize=(15,7))\n",
    "sns.barplot(x='Player',y='Maidens',data=dataset)"
   ]
  },
  {
   "cell_type": "markdown",
   "id": "e795a95b",
   "metadata": {},
   "source": [
    "#### >> Jasprit Bumrah has most (9) maidens."
   ]
  },
  {
   "cell_type": "markdown",
   "id": "477a176f",
   "metadata": {},
   "source": [
    "### Runs Conceded by a bowler"
   ]
  },
  {
   "cell_type": "code",
   "execution_count": 29,
   "id": "d8255833",
   "metadata": {},
   "outputs": [
    {
     "data": {
      "text/plain": [
       "<Axes: xlabel='Player', ylabel='Runs_Conceded'>"
      ]
     },
     "execution_count": 29,
     "metadata": {},
     "output_type": "execute_result"
    },
    {
     "data": {
      "image/png": "[encoded data removed]",
      "text/plain": [
       "<Figure size 1500x700 with 1 Axes>"
      ]
     },
     "metadata": {},
     "output_type": "display_data"
    }
   ],
   "source": [
    "plt.figure(figsize=(15,7))\n",
    "sns.barplot(x='Player',y='Runs_Conceded',data=dataset)"
   ]
  },
  {
   "cell_type": "markdown",
   "id": "82cf678a",
   "metadata": {},
   "source": [
    "#### >> Hardik Pandya conceded most Runs (447)"
   ]
  },
  {
   "cell_type": "markdown",
   "id": "f608b7c8",
   "metadata": {},
   "source": [
    "### Bowling Overs"
   ]
  },
  {
   "cell_type": "code",
   "execution_count": 30,
   "id": "e9aa065d",
   "metadata": {},
   "outputs": [
    {
     "data": {
      "text/plain": [
       "<Axes: xlabel='Player', ylabel='O_Bowled'>"
      ]
     },
     "execution_count": 30,
     "metadata": {},
     "output_type": "execute_result"
    },
    {
     "data": {
      "image/png": "[encoded data removed]",
      "text/plain": [
       "<Figure size 1500x700 with 1 Axes>"
      ]
     },
     "metadata": {},
     "output_type": "display_data"
    }
   ],
   "source": [
    "plt.figure(figsize=(15,7))\n",
    "sns.barplot(x='Player',y='O_Bowled',data=dataset)"
   ]
  },
  {
   "cell_type": "markdown",
   "id": "c8c6bd09",
   "metadata": {},
   "source": [
    "#### >> Jasprit Bumrah bowled the most Overs. Followed by Hardik Pandya and Yuzvendra Chahal"
   ]
  },
  {
   "cell_type": "markdown",
   "id": "697dec29",
   "metadata": {},
   "source": [
    "### *From Fielding perspective*"
   ]
  },
  {
   "cell_type": "markdown",
   "id": "f7cb9157",
   "metadata": {},
   "source": [
    "### Catches by Players"
   ]
  },
  {
   "cell_type": "code",
   "execution_count": 31,
   "id": "93318e79",
   "metadata": {},
   "outputs": [
    {
     "data": {
      "text/plain": [
       "<Axes: xlabel='Player', ylabel='Catches'>"
      ]
     },
     "execution_count": 31,
     "metadata": {},
     "output_type": "execute_result"
    },
    {
     "data": {
      "image/png": "[encoded data removed]",
      "text/plain": [
       "<Figure size 1500x700 with 1 Axes>"
      ]
     },
     "metadata": {},
     "output_type": "display_data"
    }
   ],
   "source": [
    "plt.figure(figsize=(15,7))\n",
    "sns.barplot(x='Player',y='Catches',data=dataset)"
   ]
  },
  {
   "cell_type": "markdown",
   "id": "620343f4",
   "metadata": {},
   "source": [
    "#### >> MS Dhoni took most (7) catches. Followed by Virat Kohli with 6 catches in the championship."
   ]
  },
  {
   "cell_type": "markdown",
   "id": "4bf9f145",
   "metadata": {},
   "source": [
    "## Data Preparation for Model Building"
   ]
  },
  {
   "cell_type": "markdown",
   "id": "82643266",
   "metadata": {},
   "source": [
    "### Calculate Bowling Economy_Rate for each player"
   ]
  },
  {
   "cell_type": "code",
   "execution_count": 32,
   "id": "8097ef90",
   "metadata": {},
   "outputs": [],
   "source": [
    "dataset['Economy_Rate'] =round((dataset['Runs_Conceded'] /dataset['O_Bowled']),2)\n",
    "dataset=dataset.replace(np.nan,0)"
   ]
  },
  {
   "cell_type": "code",
   "execution_count": 33,
   "id": "e6caf54d",
   "metadata": {},
   "outputs": [
    {
     "data": {
      "text/html": [
       "<div>\n",
       "<style scoped>\n",
       "    .dataframe tbody tr th:only-of-type {\n",
       "        vertical-align: middle;\n",
       "    }\n",
       "\n",
       "    .dataframe tbody tr th {\n",
       "        vertical-align: top;\n",
       "    }\n",
       "\n",
       "    .dataframe thead th {\n",
       "        text-align: right;\n",
       "    }\n",
       "</style>\n",
       "<table border=\"1\" class=\"dataframe\">\n",
       "  <thead>\n",
       "    <tr style=\"text-align: right;\">\n",
       "      <th></th>\n",
       "      <th>Player</th>\n",
       "      <th>Economy_Rate</th>\n",
       "    </tr>\n",
       "  </thead>\n",
       "  <tbody>\n",
       "    <tr>\n",
       "      <th>0</th>\n",
       "      <td>B Kumar</td>\n",
       "      <td>5.23</td>\n",
       "    </tr>\n",
       "    <tr>\n",
       "      <th>1</th>\n",
       "      <td>H Pandya</td>\n",
       "      <td>5.66</td>\n",
       "    </tr>\n",
       "    <tr>\n",
       "      <th>2</th>\n",
       "      <td>J Bumrah</td>\n",
       "      <td>4.42</td>\n",
       "    </tr>\n",
       "    <tr>\n",
       "      <th>3</th>\n",
       "      <td>K Jadhav</td>\n",
       "      <td>5.67</td>\n",
       "    </tr>\n",
       "    <tr>\n",
       "      <th>4</th>\n",
       "      <td>K Yadav</td>\n",
       "      <td>5.03</td>\n",
       "    </tr>\n",
       "    <tr>\n",
       "      <th>5</th>\n",
       "      <td>KD Karthik</td>\n",
       "      <td>0.00</td>\n",
       "    </tr>\n",
       "    <tr>\n",
       "      <th>6</th>\n",
       "      <td>KL Rahul</td>\n",
       "      <td>0.00</td>\n",
       "    </tr>\n",
       "    <tr>\n",
       "      <th>7</th>\n",
       "      <td>M Shami</td>\n",
       "      <td>5.50</td>\n",
       "    </tr>\n",
       "    <tr>\n",
       "      <th>8</th>\n",
       "      <td>MS Dhoni</td>\n",
       "      <td>0.00</td>\n",
       "    </tr>\n",
       "    <tr>\n",
       "      <th>9</th>\n",
       "      <td>R Jadeja</td>\n",
       "      <td>3.70</td>\n",
       "    </tr>\n",
       "    <tr>\n",
       "      <th>10</th>\n",
       "      <td>R Pant</td>\n",
       "      <td>0.00</td>\n",
       "    </tr>\n",
       "    <tr>\n",
       "      <th>11</th>\n",
       "      <td>R Sharma</td>\n",
       "      <td>0.00</td>\n",
       "    </tr>\n",
       "    <tr>\n",
       "      <th>12</th>\n",
       "      <td>S Dhawan</td>\n",
       "      <td>0.00</td>\n",
       "    </tr>\n",
       "    <tr>\n",
       "      <th>13</th>\n",
       "      <td>V Kohli</td>\n",
       "      <td>0.00</td>\n",
       "    </tr>\n",
       "    <tr>\n",
       "      <th>14</th>\n",
       "      <td>V Shankar</td>\n",
       "      <td>4.23</td>\n",
       "    </tr>\n",
       "    <tr>\n",
       "      <th>15</th>\n",
       "      <td>Y Chahal</td>\n",
       "      <td>5.97</td>\n",
       "    </tr>\n",
       "  </tbody>\n",
       "</table>\n",
       "</div>"
      ],
      "text/plain": [
       "        Player  Economy_Rate\n",
       "0      B Kumar          5.23\n",
       "1     H Pandya          5.66\n",
       "2     J Bumrah          4.42\n",
       "3     K Jadhav          5.67\n",
       "4      K Yadav          5.03\n",
       "5   KD Karthik          0.00\n",
       "6     KL Rahul          0.00\n",
       "7      M Shami          5.50\n",
       "8     MS Dhoni          0.00\n",
       "9     R Jadeja          3.70\n",
       "10      R Pant          0.00\n",
       "11    R Sharma          0.00\n",
       "12    S Dhawan          0.00\n",
       "13     V Kohli          0.00\n",
       "14   V Shankar          4.23\n",
       "15    Y Chahal          5.97"
      ]
     },
     "execution_count": 33,
     "metadata": {},
     "output_type": "execute_result"
    }
   ],
   "source": [
    "dataset[['Player', 'Economy_Rate']]"
   ]
  },
  {
   "cell_type": "code",
   "execution_count": 34,
   "id": "259d176d",
   "metadata": {},
   "outputs": [
    {
     "name": "stdout",
     "output_type": "stream",
     "text": [
      "<class 'pandas.core.frame.DataFrame'>\n",
      "RangeIndex: 16 entries, 0 to 15\n",
      "Data columns (total 23 columns):\n",
      " #   Column         Non-Null Count  Dtype  \n",
      "---  ------         --------------  -----  \n",
      " 0   Player         16 non-null     object \n",
      " 1   Mat            16 non-null     int64  \n",
      " 2   Bat_Inn        16 non-null     int64  \n",
      " 3   Bowl_Inn       16 non-null     float64\n",
      " 4   Not_Out        16 non-null     int64  \n",
      " 5   Runs           16 non-null     int64  \n",
      " 6   BF             16 non-null     int64  \n",
      " 7   HS             16 non-null     object \n",
      " 8   SR             16 non-null     float64\n",
      " 9   100            16 non-null     float64\n",
      " 10  50             16 non-null     float64\n",
      " 11  0              16 non-null     float64\n",
      " 12  4s             16 non-null     int64  \n",
      " 13  6s             16 non-null     int64  \n",
      " 14  O_Bowled       16 non-null     float64\n",
      " 15  Wkts_Taken     16 non-null     float64\n",
      " 16  Catches        16 non-null     float64\n",
      " 17  Runs_Conceded  16 non-null     float64\n",
      " 18  Bowl_Avg       16 non-null     float64\n",
      " 19  Bat_Avg        16 non-null     float64\n",
      " 20  Wkt-5          16 non-null     float64\n",
      " 21  Maidens        16 non-null     float64\n",
      " 22  Economy_Rate   16 non-null     float64\n",
      "dtypes: float64(14), int64(7), object(2)\n",
      "memory usage: 3.0+ KB\n"
     ]
    }
   ],
   "source": [
    "dataset.info()"
   ]
  },
  {
   "cell_type": "code",
   "execution_count": 35,
   "id": "f7ac439e",
   "metadata": {},
   "outputs": [],
   "source": [
    "dataset.drop(['Player','HS'],axis=1,inplace=True)"
   ]
  },
  {
   "cell_type": "code",
   "execution_count": 36,
   "id": "8e1d4800",
   "metadata": {},
   "outputs": [
    {
     "data": {
      "text/plain": [
       "Index(['Mat', 'Bat_Inn', 'Bowl_Inn', 'Not_Out', 'Runs', 'BF', 'SR', '100',\n",
       "       '50', '0', '4s', '6s', 'O_Bowled', 'Wkts_Taken', 'Catches',\n",
       "       'Runs_Conceded', 'Bowl_Avg', 'Bat_Avg', 'Wkt-5', 'Maidens',\n",
       "       'Economy_Rate'],\n",
       "      dtype='object')"
      ]
     },
     "execution_count": 36,
     "metadata": {},
     "output_type": "execute_result"
    }
   ],
   "source": [
    "dataset.columns"
   ]
  },
  {
   "cell_type": "markdown",
   "id": "0dc92743",
   "metadata": {},
   "source": [
    "## Model Building\n",
    "#### 1. Logistic Regression Model\n",
    "#### 2. Random Forest Classifier\n",
    "#### 3. Gaussian Naive Bayes"
   ]
  },
  {
   "cell_type": "markdown",
   "id": "d0eb5b9f",
   "metadata": {},
   "source": [
    "# "
   ]
  },
  {
   "cell_type": "markdown",
   "id": "5027bef4",
   "metadata": {},
   "source": [
    "### *From Bowling Perspective*\n",
    "#### Wickets taken by a player is an important criterion from the bowling perspective"
   ]
  },
  {
   "cell_type": "code",
   "execution_count": 37,
   "id": "d135d450",
   "metadata": {},
   "outputs": [],
   "source": [
    "x_bowl=dataset.drop(\"Wkts_Taken\",axis=1)\n",
    "y_bowl=dataset['Wkts_Taken']"
   ]
  },
  {
   "cell_type": "code",
   "execution_count": 38,
   "id": "823a2374",
   "metadata": {},
   "outputs": [],
   "source": [
    "x_bowl_train,x_bowl_test,y_bowl_train,y_bowl_test=train_test_split(x_bowl,y_bowl,test_size=0.3,random_state=45) #random state=42"
   ]
  },
  {
   "cell_type": "markdown",
   "id": "d36beead",
   "metadata": {},
   "source": [
    "### Logistic Regression Model"
   ]
  },
  {
   "cell_type": "code",
   "execution_count": 39,
   "id": "3c880c80",
   "metadata": {},
   "outputs": [],
   "source": [
    "lgm=LogisticRegression()"
   ]
  },
  {
   "cell_type": "code",
   "execution_count": 40,
   "id": "2d2ca3e3",
   "metadata": {},
   "outputs": [
    {
     "data": {
      "text/html": [
       "<style>#sk-container-id-1 {color: black;background-color: white;}#sk-container-id-1 pre{padding: 0;}#sk-container-id-1 div.sk-toggleable {background-color: white;}#sk-container-id-1 label.sk-toggleable__label {cursor: pointer;display: block;width: 100%;margin-bottom: 0;padding: 0.3em;box-sizing: border-box;text-align: center;}#sk-container-id-1 label.sk-toggleable__label-arrow:before {content: \"▸\";float: left;margin-right: 0.25em;color: #696969;}#sk-container-id-1 label.sk-toggleable__label-arrow:hover:before {color: black;}#sk-container-id-1 div.sk-estimator:hover label.sk-toggleable__label-arrow:before {color: black;}#sk-container-id-1 div.sk-toggleable__content {max-height: 0;max-width: 0;overflow: hidden;text-align: left;background-color: #f0f8ff;}#sk-container-id-1 div.sk-toggleable__content pre {margin: 0.2em;color: black;border-radius: 0.25em;background-color: #f0f8ff;}#sk-container-id-1 input.sk-toggleable__control:checked~div.sk-toggleable__content {max-height: 200px;max-width: 100%;overflow: auto;}#sk-container-id-1 input.sk-toggleable__control:checked~label.sk-toggleable__label-arrow:before {content: \"▾\";}#sk-container-id-1 div.sk-estimator input.sk-toggleable__control:checked~label.sk-toggleable__label {background-color: #d4ebff;}#sk-container-id-1 div.sk-label input.sk-toggleable__control:checked~label.sk-toggleable__label {background-color: #d4ebff;}#sk-container-id-1 input.sk-hidden--visually {border: 0;clip: rect(1px 1px 1px 1px);clip: rect(1px, 1px, 1px, 1px);height: 1px;margin: -1px;overflow: hidden;padding: 0;position: absolute;width: 1px;}#sk-container-id-1 div.sk-estimator {font-family: monospace;background-color: #f0f8ff;border: 1px dotted black;border-radius: 0.25em;box-sizing: border-box;margin-bottom: 0.5em;}#sk-container-id-1 div.sk-estimator:hover {background-color: #d4ebff;}#sk-container-id-1 div.sk-parallel-item::after {content: \"\";width: 100%;border-bottom: 1px solid gray;flex-grow: 1;}#sk-container-id-1 div.sk-label:hover label.sk-toggleable__label {background-color: #d4ebff;}#sk-container-id-1 div.sk-serial::before {content: \"\";position: absolute;border-left: 1px solid gray;box-sizing: border-box;top: 0;bottom: 0;left: 50%;z-index: 0;}#sk-container-id-1 div.sk-serial {display: flex;flex-direction: column;align-items: center;background-color: white;padding-right: 0.2em;padding-left: 0.2em;position: relative;}#sk-container-id-1 div.sk-item {position: relative;z-index: 1;}#sk-container-id-1 div.sk-parallel {display: flex;align-items: stretch;justify-content: center;background-color: white;position: relative;}#sk-container-id-1 div.sk-item::before, #sk-container-id-1 div.sk-parallel-item::before {content: \"\";position: absolute;border-left: 1px solid gray;box-sizing: border-box;top: 0;bottom: 0;left: 50%;z-index: -1;}#sk-container-id-1 div.sk-parallel-item {display: flex;flex-direction: column;z-index: 1;position: relative;background-color: white;}#sk-container-id-1 div.sk-parallel-item:first-child::after {align-self: flex-end;width: 50%;}#sk-container-id-1 div.sk-parallel-item:last-child::after {align-self: flex-start;width: 50%;}#sk-container-id-1 div.sk-parallel-item:only-child::after {width: 0;}#sk-container-id-1 div.sk-dashed-wrapped {border: 1px dashed gray;margin: 0 0.4em 0.5em 0.4em;box-sizing: border-box;padding-bottom: 0.4em;background-color: white;}#sk-container-id-1 div.sk-label label {font-family: monospace;font-weight: bold;display: inline-block;line-height: 1.2em;}#sk-container-id-1 div.sk-label-container {text-align: center;}#sk-container-id-1 div.sk-container {/* jupyter's `normalize.less` sets `[hidden] { display: none; }` but bootstrap.min.css set `[hidden] { display: none !important; }` so we also need the `!important` here to be able to override the default hidden behavior on the sphinx rendered scikit-learn.org. See: https://github.com/scikit-learn/scikit-learn/issues/21755 */display: inline-block !important;position: relative;}#sk-container-id-1 div.sk-text-repr-fallback {display: none;}</style><div id=\"sk-container-id-1\" class=\"sk-top-container\"><div class=\"sk-text-repr-fallback\"><pre>LogisticRegression()</pre><b>In a Jupyter environment, please rerun this cell to show the HTML representation or trust the notebook. <br />On GitHub, the HTML representation is unable to render, please try loading this page with nbviewer.org.</b></div><div class=\"sk-container\" hidden><div class=\"sk-item\"><div class=\"sk-estimator sk-toggleable\"><input class=\"sk-toggleable__control sk-hidden--visually\" id=\"sk-estimator-id-1\" type=\"checkbox\" checked><label for=\"sk-estimator-id-1\" class=\"sk-toggleable__label sk-toggleable__label-arrow\">LogisticRegression</label><div class=\"sk-toggleable__content\"><pre>LogisticRegression()</pre></div></div></div></div></div>"
      ],
      "text/plain": [
       "LogisticRegression()"
      ]
     },
     "execution_count": 40,
     "metadata": {},
     "output_type": "execute_result"
    }
   ],
   "source": [
    "lgm.fit(x_bowl_train,y_bowl_train)"
   ]
  },
  {
   "cell_type": "code",
   "execution_count": 41,
   "id": "daf47f02",
   "metadata": {},
   "outputs": [
    {
     "data": {
      "text/plain": [
       "array([ 2.,  0.,  0., 12.,  0.])"
      ]
     },
     "execution_count": 41,
     "metadata": {},
     "output_type": "execute_result"
    }
   ],
   "source": [
    "lgm.predict(x_bowl_test)"
   ]
  },
  {
   "cell_type": "code",
   "execution_count": 42,
   "id": "1538153e",
   "metadata": {},
   "outputs": [
    {
     "name": "stdout",
     "output_type": "stream",
     "text": [
      "Accuracy Score: 100.0 %\n"
     ]
    }
   ],
   "source": [
    "score=round(lgm.score(x_bowl_train,y_bowl_train)*100,2)\n",
    "print(\"Accuracy Score:\",round(score,2,),\"%\")"
   ]
  },
  {
   "cell_type": "markdown",
   "id": "68286d2a",
   "metadata": {},
   "source": [
    "### Random Forest Classifier"
   ]
  },
  {
   "cell_type": "code",
   "execution_count": 43,
   "id": "bbc2c1b0",
   "metadata": {},
   "outputs": [],
   "source": [
    "rfc=RandomForestClassifier()"
   ]
  },
  {
   "cell_type": "code",
   "execution_count": 44,
   "id": "c4599007",
   "metadata": {},
   "outputs": [
    {
     "data": {
      "text/html": [
       "<style>#sk-container-id-2 {color: black;background-color: white;}#sk-container-id-2 pre{padding: 0;}#sk-container-id-2 div.sk-toggleable {background-color: white;}#sk-container-id-2 label.sk-toggleable__label {cursor: pointer;display: block;width: 100%;margin-bottom: 0;padding: 0.3em;box-sizing: border-box;text-align: center;}#sk-container-id-2 label.sk-toggleable__label-arrow:before {content: \"▸\";float: left;margin-right: 0.25em;color: #696969;}#sk-container-id-2 label.sk-toggleable__label-arrow:hover:before {color: black;}#sk-container-id-2 div.sk-estimator:hover label.sk-toggleable__label-arrow:before {color: black;}#sk-container-id-2 div.sk-toggleable__content {max-height: 0;max-width: 0;overflow: hidden;text-align: left;background-color: #f0f8ff;}#sk-container-id-2 div.sk-toggleable__content pre {margin: 0.2em;color: black;border-radius: 0.25em;background-color: #f0f8ff;}#sk-container-id-2 input.sk-toggleable__control:checked~div.sk-toggleable__content {max-height: 200px;max-width: 100%;overflow: auto;}#sk-container-id-2 input.sk-toggleable__control:checked~label.sk-toggleable__label-arrow:before {content: \"▾\";}#sk-container-id-2 div.sk-estimator input.sk-toggleable__control:checked~label.sk-toggleable__label {background-color: #d4ebff;}#sk-container-id-2 div.sk-label input.sk-toggleable__control:checked~label.sk-toggleable__label {background-color: #d4ebff;}#sk-container-id-2 input.sk-hidden--visually {border: 0;clip: rect(1px 1px 1px 1px);clip: rect(1px, 1px, 1px, 1px);height: 1px;margin: -1px;overflow: hidden;padding: 0;position: absolute;width: 1px;}#sk-container-id-2 div.sk-estimator {font-family: monospace;background-color: #f0f8ff;border: 1px dotted black;border-radius: 0.25em;box-sizing: border-box;margin-bottom: 0.5em;}#sk-container-id-2 div.sk-estimator:hover {background-color: #d4ebff;}#sk-container-id-2 div.sk-parallel-item::after {content: \"\";width: 100%;border-bottom: 1px solid gray;flex-grow: 1;}#sk-container-id-2 div.sk-label:hover label.sk-toggleable__label {background-color: #d4ebff;}#sk-container-id-2 div.sk-serial::before {content: \"\";position: absolute;border-left: 1px solid gray;box-sizing: border-box;top: 0;bottom: 0;left: 50%;z-index: 0;}#sk-container-id-2 div.sk-serial {display: flex;flex-direction: column;align-items: center;background-color: white;padding-right: 0.2em;padding-left: 0.2em;position: relative;}#sk-container-id-2 div.sk-item {position: relative;z-index: 1;}#sk-container-id-2 div.sk-parallel {display: flex;align-items: stretch;justify-content: center;background-color: white;position: relative;}#sk-container-id-2 div.sk-item::before, #sk-container-id-2 div.sk-parallel-item::before {content: \"\";position: absolute;border-left: 1px solid gray;box-sizing: border-box;top: 0;bottom: 0;left: 50%;z-index: -1;}#sk-container-id-2 div.sk-parallel-item {display: flex;flex-direction: column;z-index: 1;position: relative;background-color: white;}#sk-container-id-2 div.sk-parallel-item:first-child::after {align-self: flex-end;width: 50%;}#sk-container-id-2 div.sk-parallel-item:last-child::after {align-self: flex-start;width: 50%;}#sk-container-id-2 div.sk-parallel-item:only-child::after {width: 0;}#sk-container-id-2 div.sk-dashed-wrapped {border: 1px dashed gray;margin: 0 0.4em 0.5em 0.4em;box-sizing: border-box;padding-bottom: 0.4em;background-color: white;}#sk-container-id-2 div.sk-label label {font-family: monospace;font-weight: bold;display: inline-block;line-height: 1.2em;}#sk-container-id-2 div.sk-label-container {text-align: center;}#sk-container-id-2 div.sk-container {/* jupyter's `normalize.less` sets `[hidden] { display: none; }` but bootstrap.min.css set `[hidden] { display: none !important; }` so we also need the `!important` here to be able to override the default hidden behavior on the sphinx rendered scikit-learn.org. See: https://github.com/scikit-learn/scikit-learn/issues/21755 */display: inline-block !important;position: relative;}#sk-container-id-2 div.sk-text-repr-fallback {display: none;}</style><div id=\"sk-container-id-2\" class=\"sk-top-container\"><div class=\"sk-text-repr-fallback\"><pre>RandomForestClassifier()</pre><b>In a Jupyter environment, please rerun this cell to show the HTML representation or trust the notebook. <br />On GitHub, the HTML representation is unable to render, please try loading this page with nbviewer.org.</b></div><div class=\"sk-container\" hidden><div class=\"sk-item\"><div class=\"sk-estimator sk-toggleable\"><input class=\"sk-toggleable__control sk-hidden--visually\" id=\"sk-estimator-id-2\" type=\"checkbox\" checked><label for=\"sk-estimator-id-2\" class=\"sk-toggleable__label sk-toggleable__label-arrow\">RandomForestClassifier</label><div class=\"sk-toggleable__content\"><pre>RandomForestClassifier()</pre></div></div></div></div></div>"
      ],
      "text/plain": [
       "RandomForestClassifier()"
      ]
     },
     "execution_count": 44,
     "metadata": {},
     "output_type": "execute_result"
    }
   ],
   "source": [
    "rfc.fit(x_bowl_train,y_bowl_train)"
   ]
  },
  {
   "cell_type": "code",
   "execution_count": 45,
   "id": "5d5da41e",
   "metadata": {},
   "outputs": [
    {
     "data": {
      "text/plain": [
       "array([0., 0., 0., 6., 0.])"
      ]
     },
     "execution_count": 45,
     "metadata": {},
     "output_type": "execute_result"
    }
   ],
   "source": [
    "rfc.predict(x_bowl_test)"
   ]
  },
  {
   "cell_type": "code",
   "execution_count": 46,
   "id": "874c48eb",
   "metadata": {},
   "outputs": [
    {
     "name": "stdout",
     "output_type": "stream",
     "text": [
      "Accuracy Score: 100.0 %\n"
     ]
    }
   ],
   "source": [
    "score=round(rfc.score(x_bowl_train,y_bowl_train)*100,2)\n",
    "print(\"Accuracy Score:\",round(score,2,),\"%\")"
   ]
  },
  {
   "cell_type": "markdown",
   "id": "b6307f1f",
   "metadata": {},
   "source": [
    "### Gaussian Naive Bayes"
   ]
  },
  {
   "cell_type": "code",
   "execution_count": 47,
   "id": "531001b0",
   "metadata": {},
   "outputs": [],
   "source": [
    "gnb=GaussianNB()"
   ]
  },
  {
   "cell_type": "code",
   "execution_count": 48,
   "id": "f1a354e8",
   "metadata": {},
   "outputs": [
    {
     "data": {
      "text/html": [
       "<style>#sk-container-id-3 {color: black;background-color: white;}#sk-container-id-3 pre{padding: 0;}#sk-container-id-3 div.sk-toggleable {background-color: white;}#sk-container-id-3 label.sk-toggleable__label {cursor: pointer;display: block;width: 100%;margin-bottom: 0;padding: 0.3em;box-sizing: border-box;text-align: center;}#sk-container-id-3 label.sk-toggleable__label-arrow:before {content: \"▸\";float: left;margin-right: 0.25em;color: #696969;}#sk-container-id-3 label.sk-toggleable__label-arrow:hover:before {color: black;}#sk-container-id-3 div.sk-estimator:hover label.sk-toggleable__label-arrow:before {color: black;}#sk-container-id-3 div.sk-toggleable__content {max-height: 0;max-width: 0;overflow: hidden;text-align: left;background-color: #f0f8ff;}#sk-container-id-3 div.sk-toggleable__content pre {margin: 0.2em;color: black;border-radius: 0.25em;background-color: #f0f8ff;}#sk-container-id-3 input.sk-toggleable__control:checked~div.sk-toggleable__content {max-height: 200px;max-width: 100%;overflow: auto;}#sk-container-id-3 input.sk-toggleable__control:checked~label.sk-toggleable__label-arrow:before {content: \"▾\";}#sk-container-id-3 div.sk-estimator input.sk-toggleable__control:checked~label.sk-toggleable__label {background-color: #d4ebff;}#sk-container-id-3 div.sk-label input.sk-toggleable__control:checked~label.sk-toggleable__label {background-color: #d4ebff;}#sk-container-id-3 input.sk-hidden--visually {border: 0;clip: rect(1px 1px 1px 1px);clip: rect(1px, 1px, 1px, 1px);height: 1px;margin: -1px;overflow: hidden;padding: 0;position: absolute;width: 1px;}#sk-container-id-3 div.sk-estimator {font-family: monospace;background-color: #f0f8ff;border: 1px dotted black;border-radius: 0.25em;box-sizing: border-box;margin-bottom: 0.5em;}#sk-container-id-3 div.sk-estimator:hover {background-color: #d4ebff;}#sk-container-id-3 div.sk-parallel-item::after {content: \"\";width: 100%;border-bottom: 1px solid gray;flex-grow: 1;}#sk-container-id-3 div.sk-label:hover label.sk-toggleable__label {background-color: #d4ebff;}#sk-container-id-3 div.sk-serial::before {content: \"\";position: absolute;border-left: 1px solid gray;box-sizing: border-box;top: 0;bottom: 0;left: 50%;z-index: 0;}#sk-container-id-3 div.sk-serial {display: flex;flex-direction: column;align-items: center;background-color: white;padding-right: 0.2em;padding-left: 0.2em;position: relative;}#sk-container-id-3 div.sk-item {position: relative;z-index: 1;}#sk-container-id-3 div.sk-parallel {display: flex;align-items: stretch;justify-content: center;background-color: white;position: relative;}#sk-container-id-3 div.sk-item::before, #sk-container-id-3 div.sk-parallel-item::before {content: \"\";position: absolute;border-left: 1px solid gray;box-sizing: border-box;top: 0;bottom: 0;left: 50%;z-index: -1;}#sk-container-id-3 div.sk-parallel-item {display: flex;flex-direction: column;z-index: 1;position: relative;background-color: white;}#sk-container-id-3 div.sk-parallel-item:first-child::after {align-self: flex-end;width: 50%;}#sk-container-id-3 div.sk-parallel-item:last-child::after {align-self: flex-start;width: 50%;}#sk-container-id-3 div.sk-parallel-item:only-child::after {width: 0;}#sk-container-id-3 div.sk-dashed-wrapped {border: 1px dashed gray;margin: 0 0.4em 0.5em 0.4em;box-sizing: border-box;padding-bottom: 0.4em;background-color: white;}#sk-container-id-3 div.sk-label label {font-family: monospace;font-weight: bold;display: inline-block;line-height: 1.2em;}#sk-container-id-3 div.sk-label-container {text-align: center;}#sk-container-id-3 div.sk-container {/* jupyter's `normalize.less` sets `[hidden] { display: none; }` but bootstrap.min.css set `[hidden] { display: none !important; }` so we also need the `!important` here to be able to override the default hidden behavior on the sphinx rendered scikit-learn.org. See: https://github.com/scikit-learn/scikit-learn/issues/21755 */display: inline-block !important;position: relative;}#sk-container-id-3 div.sk-text-repr-fallback {display: none;}</style><div id=\"sk-container-id-3\" class=\"sk-top-container\"><div class=\"sk-text-repr-fallback\"><pre>GaussianNB()</pre><b>In a Jupyter environment, please rerun this cell to show the HTML representation or trust the notebook. <br />On GitHub, the HTML representation is unable to render, please try loading this page with nbviewer.org.</b></div><div class=\"sk-container\" hidden><div class=\"sk-item\"><div class=\"sk-estimator sk-toggleable\"><input class=\"sk-toggleable__control sk-hidden--visually\" id=\"sk-estimator-id-3\" type=\"checkbox\" checked><label for=\"sk-estimator-id-3\" class=\"sk-toggleable__label sk-toggleable__label-arrow\">GaussianNB</label><div class=\"sk-toggleable__content\"><pre>GaussianNB()</pre></div></div></div></div></div>"
      ],
      "text/plain": [
       "GaussianNB()"
      ]
     },
     "execution_count": 48,
     "metadata": {},
     "output_type": "execute_result"
    }
   ],
   "source": [
    "gnb.fit(x_bowl_train,y_bowl_train)"
   ]
  },
  {
   "cell_type": "code",
   "execution_count": 49,
   "id": "f7312446",
   "metadata": {},
   "outputs": [
    {
     "data": {
      "text/plain": [
       "array([10.,  0.,  0., 10.,  0.])"
      ]
     },
     "execution_count": 49,
     "metadata": {},
     "output_type": "execute_result"
    }
   ],
   "source": [
    "gnb.predict(x_bowl_test)"
   ]
  },
  {
   "cell_type": "code",
   "execution_count": 50,
   "id": "fe01eb26",
   "metadata": {},
   "outputs": [
    {
     "name": "stdout",
     "output_type": "stream",
     "text": [
      "Accuracy Score: 100.0 %\n"
     ]
    }
   ],
   "source": [
    "score=round(gnb.score(x_bowl_train,y_bowl_train)*100,2)\n",
    "print(\"Accuracy Score:\",round(score,2,),\"%\")"
   ]
  },
  {
   "cell_type": "markdown",
   "id": "f17a5816",
   "metadata": {},
   "source": [
    "# "
   ]
  },
  {
   "cell_type": "markdown",
   "id": "41889bdd",
   "metadata": {},
   "source": [
    "### *From Batting Perspective*\n",
    "#### Runs scored by player is an important criterion from the batting perspective"
   ]
  },
  {
   "cell_type": "code",
   "execution_count": 51,
   "id": "5168ec22",
   "metadata": {},
   "outputs": [],
   "source": [
    "x_bat=dataset.drop(\"Runs\",axis=1)\n",
    "y_bat=dataset['Runs']"
   ]
  },
  {
   "cell_type": "code",
   "execution_count": 52,
   "id": "8177e519",
   "metadata": {},
   "outputs": [],
   "source": [
    "x_bat_train,x_bat_test,y_bat_train,y_bat_test=train_test_split(x_bat,y_bat,test_size=0.3,random_state=45)"
   ]
  },
  {
   "cell_type": "markdown",
   "id": "595a38d2",
   "metadata": {},
   "source": [
    "### Logistic Regression Model"
   ]
  },
  {
   "cell_type": "code",
   "execution_count": 53,
   "id": "6a81842c",
   "metadata": {},
   "outputs": [],
   "source": [
    "lgm=LogisticRegression()"
   ]
  },
  {
   "cell_type": "code",
   "execution_count": 54,
   "id": "80f2ebbc",
   "metadata": {},
   "outputs": [
    {
     "data": {
      "text/html": [
       "<style>#sk-container-id-4 {color: black;background-color: white;}#sk-container-id-4 pre{padding: 0;}#sk-container-id-4 div.sk-toggleable {background-color: white;}#sk-container-id-4 label.sk-toggleable__label {cursor: pointer;display: block;width: 100%;margin-bottom: 0;padding: 0.3em;box-sizing: border-box;text-align: center;}#sk-container-id-4 label.sk-toggleable__label-arrow:before {content: \"▸\";float: left;margin-right: 0.25em;color: #696969;}#sk-container-id-4 label.sk-toggleable__label-arrow:hover:before {color: black;}#sk-container-id-4 div.sk-estimator:hover label.sk-toggleable__label-arrow:before {color: black;}#sk-container-id-4 div.sk-toggleable__content {max-height: 0;max-width: 0;overflow: hidden;text-align: left;background-color: #f0f8ff;}#sk-container-id-4 div.sk-toggleable__content pre {margin: 0.2em;color: black;border-radius: 0.25em;background-color: #f0f8ff;}#sk-container-id-4 input.sk-toggleable__control:checked~div.sk-toggleable__content {max-height: 200px;max-width: 100%;overflow: auto;}#sk-container-id-4 input.sk-toggleable__control:checked~label.sk-toggleable__label-arrow:before {content: \"▾\";}#sk-container-id-4 div.sk-estimator input.sk-toggleable__control:checked~label.sk-toggleable__label {background-color: #d4ebff;}#sk-container-id-4 div.sk-label input.sk-toggleable__control:checked~label.sk-toggleable__label {background-color: #d4ebff;}#sk-container-id-4 input.sk-hidden--visually {border: 0;clip: rect(1px 1px 1px 1px);clip: rect(1px, 1px, 1px, 1px);height: 1px;margin: -1px;overflow: hidden;padding: 0;position: absolute;width: 1px;}#sk-container-id-4 div.sk-estimator {font-family: monospace;background-color: #f0f8ff;border: 1px dotted black;border-radius: 0.25em;box-sizing: border-box;margin-bottom: 0.5em;}#sk-container-id-4 div.sk-estimator:hover {background-color: #d4ebff;}#sk-container-id-4 div.sk-parallel-item::after {content: \"\";width: 100%;border-bottom: 1px solid gray;flex-grow: 1;}#sk-container-id-4 div.sk-label:hover label.sk-toggleable__label {background-color: #d4ebff;}#sk-container-id-4 div.sk-serial::before {content: \"\";position: absolute;border-left: 1px solid gray;box-sizing: border-box;top: 0;bottom: 0;left: 50%;z-index: 0;}#sk-container-id-4 div.sk-serial {display: flex;flex-direction: column;align-items: center;background-color: white;padding-right: 0.2em;padding-left: 0.2em;position: relative;}#sk-container-id-4 div.sk-item {position: relative;z-index: 1;}#sk-container-id-4 div.sk-parallel {display: flex;align-items: stretch;justify-content: center;background-color: white;position: relative;}#sk-container-id-4 div.sk-item::before, #sk-container-id-4 div.sk-parallel-item::before {content: \"\";position: absolute;border-left: 1px solid gray;box-sizing: border-box;top: 0;bottom: 0;left: 50%;z-index: -1;}#sk-container-id-4 div.sk-parallel-item {display: flex;flex-direction: column;z-index: 1;position: relative;background-color: white;}#sk-container-id-4 div.sk-parallel-item:first-child::after {align-self: flex-end;width: 50%;}#sk-container-id-4 div.sk-parallel-item:last-child::after {align-self: flex-start;width: 50%;}#sk-container-id-4 div.sk-parallel-item:only-child::after {width: 0;}#sk-container-id-4 div.sk-dashed-wrapped {border: 1px dashed gray;margin: 0 0.4em 0.5em 0.4em;box-sizing: border-box;padding-bottom: 0.4em;background-color: white;}#sk-container-id-4 div.sk-label label {font-family: monospace;font-weight: bold;display: inline-block;line-height: 1.2em;}#sk-container-id-4 div.sk-label-container {text-align: center;}#sk-container-id-4 div.sk-container {/* jupyter's `normalize.less` sets `[hidden] { display: none; }` but bootstrap.min.css set `[hidden] { display: none !important; }` so we also need the `!important` here to be able to override the default hidden behavior on the sphinx rendered scikit-learn.org. See: https://github.com/scikit-learn/scikit-learn/issues/21755 */display: inline-block !important;position: relative;}#sk-container-id-4 div.sk-text-repr-fallback {display: none;}</style><div id=\"sk-container-id-4\" class=\"sk-top-container\"><div class=\"sk-text-repr-fallback\"><pre>LogisticRegression()</pre><b>In a Jupyter environment, please rerun this cell to show the HTML representation or trust the notebook. <br />On GitHub, the HTML representation is unable to render, please try loading this page with nbviewer.org.</b></div><div class=\"sk-container\" hidden><div class=\"sk-item\"><div class=\"sk-estimator sk-toggleable\"><input class=\"sk-toggleable__control sk-hidden--visually\" id=\"sk-estimator-id-4\" type=\"checkbox\" checked><label for=\"sk-estimator-id-4\" class=\"sk-toggleable__label sk-toggleable__label-arrow\">LogisticRegression</label><div class=\"sk-toggleable__content\"><pre>LogisticRegression()</pre></div></div></div></div></div>"
      ],
      "text/plain": [
       "LogisticRegression()"
      ]
     },
     "execution_count": 54,
     "metadata": {},
     "output_type": "execute_result"
    }
   ],
   "source": [
    "lgm.fit(x_bat_train,y_bat_train)"
   ]
  },
  {
   "cell_type": "code",
   "execution_count": 55,
   "id": "91a18567",
   "metadata": {},
   "outputs": [
    {
     "data": {
      "text/plain": [
       "array([ 58, 443, 443,   5,  14], dtype=int64)"
      ]
     },
     "execution_count": 55,
     "metadata": {},
     "output_type": "execute_result"
    }
   ],
   "source": [
    "lgm.predict(x_bat_test)"
   ]
  },
  {
   "cell_type": "code",
   "execution_count": 56,
   "id": "015a92b8",
   "metadata": {},
   "outputs": [
    {
     "name": "stdout",
     "output_type": "stream",
     "text": [
      "Accuracy Score: 100.0 %\n"
     ]
    }
   ],
   "source": [
    "score=round(lgm.score(x_bat_train,y_bat_train)*100,2)\n",
    "print(\"Accuracy Score:\",round(score,2,),\"%\")"
   ]
  },
  {
   "cell_type": "markdown",
   "id": "f850ebdc",
   "metadata": {},
   "source": [
    "### Random Forest Classifier"
   ]
  },
  {
   "cell_type": "code",
   "execution_count": 57,
   "id": "672db55d",
   "metadata": {},
   "outputs": [],
   "source": [
    "rfc=RandomForestClassifier()"
   ]
  },
  {
   "cell_type": "code",
   "execution_count": 58,
   "id": "803ca9e5",
   "metadata": {},
   "outputs": [
    {
     "data": {
      "text/html": [
       "<style>#sk-container-id-5 {color: black;background-color: white;}#sk-container-id-5 pre{padding: 0;}#sk-container-id-5 div.sk-toggleable {background-color: white;}#sk-container-id-5 label.sk-toggleable__label {cursor: pointer;display: block;width: 100%;margin-bottom: 0;padding: 0.3em;box-sizing: border-box;text-align: center;}#sk-container-id-5 label.sk-toggleable__label-arrow:before {content: \"▸\";float: left;margin-right: 0.25em;color: #696969;}#sk-container-id-5 label.sk-toggleable__label-arrow:hover:before {color: black;}#sk-container-id-5 div.sk-estimator:hover label.sk-toggleable__label-arrow:before {color: black;}#sk-container-id-5 div.sk-toggleable__content {max-height: 0;max-width: 0;overflow: hidden;text-align: left;background-color: #f0f8ff;}#sk-container-id-5 div.sk-toggleable__content pre {margin: 0.2em;color: black;border-radius: 0.25em;background-color: #f0f8ff;}#sk-container-id-5 input.sk-toggleable__control:checked~div.sk-toggleable__content {max-height: 200px;max-width: 100%;overflow: auto;}#sk-container-id-5 input.sk-toggleable__control:checked~label.sk-toggleable__label-arrow:before {content: \"▾\";}#sk-container-id-5 div.sk-estimator input.sk-toggleable__control:checked~label.sk-toggleable__label {background-color: #d4ebff;}#sk-container-id-5 div.sk-label input.sk-toggleable__control:checked~label.sk-toggleable__label {background-color: #d4ebff;}#sk-container-id-5 input.sk-hidden--visually {border: 0;clip: rect(1px 1px 1px 1px);clip: rect(1px, 1px, 1px, 1px);height: 1px;margin: -1px;overflow: hidden;padding: 0;position: absolute;width: 1px;}#sk-container-id-5 div.sk-estimator {font-family: monospace;background-color: #f0f8ff;border: 1px dotted black;border-radius: 0.25em;box-sizing: border-box;margin-bottom: 0.5em;}#sk-container-id-5 div.sk-estimator:hover {background-color: #d4ebff;}#sk-container-id-5 div.sk-parallel-item::after {content: \"\";width: 100%;border-bottom: 1px solid gray;flex-grow: 1;}#sk-container-id-5 div.sk-label:hover label.sk-toggleable__label {background-color: #d4ebff;}#sk-container-id-5 div.sk-serial::before {content: \"\";position: absolute;border-left: 1px solid gray;box-sizing: border-box;top: 0;bottom: 0;left: 50%;z-index: 0;}#sk-container-id-5 div.sk-serial {display: flex;flex-direction: column;align-items: center;background-color: white;padding-right: 0.2em;padding-left: 0.2em;position: relative;}#sk-container-id-5 div.sk-item {position: relative;z-index: 1;}#sk-container-id-5 div.sk-parallel {display: flex;align-items: stretch;justify-content: center;background-color: white;position: relative;}#sk-container-id-5 div.sk-item::before, #sk-container-id-5 div.sk-parallel-item::before {content: \"\";position: absolute;border-left: 1px solid gray;box-sizing: border-box;top: 0;bottom: 0;left: 50%;z-index: -1;}#sk-container-id-5 div.sk-parallel-item {display: flex;flex-direction: column;z-index: 1;position: relative;background-color: white;}#sk-container-id-5 div.sk-parallel-item:first-child::after {align-self: flex-end;width: 50%;}#sk-container-id-5 div.sk-parallel-item:last-child::after {align-self: flex-start;width: 50%;}#sk-container-id-5 div.sk-parallel-item:only-child::after {width: 0;}#sk-container-id-5 div.sk-dashed-wrapped {border: 1px dashed gray;margin: 0 0.4em 0.5em 0.4em;box-sizing: border-box;padding-bottom: 0.4em;background-color: white;}#sk-container-id-5 div.sk-label label {font-family: monospace;font-weight: bold;display: inline-block;line-height: 1.2em;}#sk-container-id-5 div.sk-label-container {text-align: center;}#sk-container-id-5 div.sk-container {/* jupyter's `normalize.less` sets `[hidden] { display: none; }` but bootstrap.min.css set `[hidden] { display: none !important; }` so we also need the `!important` here to be able to override the default hidden behavior on the sphinx rendered scikit-learn.org. See: https://github.com/scikit-learn/scikit-learn/issues/21755 */display: inline-block !important;position: relative;}#sk-container-id-5 div.sk-text-repr-fallback {display: none;}</style><div id=\"sk-container-id-5\" class=\"sk-top-container\"><div class=\"sk-text-repr-fallback\"><pre>RandomForestClassifier()</pre><b>In a Jupyter environment, please rerun this cell to show the HTML representation or trust the notebook. <br />On GitHub, the HTML representation is unable to render, please try loading this page with nbviewer.org.</b></div><div class=\"sk-container\" hidden><div class=\"sk-item\"><div class=\"sk-estimator sk-toggleable\"><input class=\"sk-toggleable__control sk-hidden--visually\" id=\"sk-estimator-id-5\" type=\"checkbox\" checked><label for=\"sk-estimator-id-5\" class=\"sk-toggleable__label sk-toggleable__label-arrow\">RandomForestClassifier</label><div class=\"sk-toggleable__content\"><pre>RandomForestClassifier()</pre></div></div></div></div></div>"
      ],
      "text/plain": [
       "RandomForestClassifier()"
      ]
     },
     "execution_count": 58,
     "metadata": {},
     "output_type": "execute_result"
    }
   ],
   "source": [
    "rfc.fit(x_bat_train,y_bat_train)"
   ]
  },
  {
   "cell_type": "code",
   "execution_count": 59,
   "id": "39e71d88",
   "metadata": {},
   "outputs": [
    {
     "data": {
      "text/plain": [
       "array([ 58, 443, 443,   1, 125], dtype=int64)"
      ]
     },
     "execution_count": 59,
     "metadata": {},
     "output_type": "execute_result"
    }
   ],
   "source": [
    "rfc.predict(x_bat_test)"
   ]
  },
  {
   "cell_type": "code",
   "execution_count": 60,
   "id": "77de5a4b",
   "metadata": {},
   "outputs": [
    {
     "name": "stdout",
     "output_type": "stream",
     "text": [
      "Accuracy Score: 100.0 %\n"
     ]
    }
   ],
   "source": [
    "score=round(rfc.score(x_bat_train,y_bat_train)*100,2)\n",
    "print(\"Accuracy Score:\",round(score,2,),\"%\")"
   ]
  },
  {
   "cell_type": "markdown",
   "id": "5ad40c9a",
   "metadata": {},
   "source": [
    "### Gaussian Naive Bayes"
   ]
  },
  {
   "cell_type": "code",
   "execution_count": 61,
   "id": "2c71ab93",
   "metadata": {},
   "outputs": [],
   "source": [
    "gnb=GaussianNB()"
   ]
  },
  {
   "cell_type": "code",
   "execution_count": 62,
   "id": "bb4d9349",
   "metadata": {},
   "outputs": [
    {
     "data": {
      "text/html": [
       "<style>#sk-container-id-6 {color: black;background-color: white;}#sk-container-id-6 pre{padding: 0;}#sk-container-id-6 div.sk-toggleable {background-color: white;}#sk-container-id-6 label.sk-toggleable__label {cursor: pointer;display: block;width: 100%;margin-bottom: 0;padding: 0.3em;box-sizing: border-box;text-align: center;}#sk-container-id-6 label.sk-toggleable__label-arrow:before {content: \"▸\";float: left;margin-right: 0.25em;color: #696969;}#sk-container-id-6 label.sk-toggleable__label-arrow:hover:before {color: black;}#sk-container-id-6 div.sk-estimator:hover label.sk-toggleable__label-arrow:before {color: black;}#sk-container-id-6 div.sk-toggleable__content {max-height: 0;max-width: 0;overflow: hidden;text-align: left;background-color: #f0f8ff;}#sk-container-id-6 div.sk-toggleable__content pre {margin: 0.2em;color: black;border-radius: 0.25em;background-color: #f0f8ff;}#sk-container-id-6 input.sk-toggleable__control:checked~div.sk-toggleable__content {max-height: 200px;max-width: 100%;overflow: auto;}#sk-container-id-6 input.sk-toggleable__control:checked~label.sk-toggleable__label-arrow:before {content: \"▾\";}#sk-container-id-6 div.sk-estimator input.sk-toggleable__control:checked~label.sk-toggleable__label {background-color: #d4ebff;}#sk-container-id-6 div.sk-label input.sk-toggleable__control:checked~label.sk-toggleable__label {background-color: #d4ebff;}#sk-container-id-6 input.sk-hidden--visually {border: 0;clip: rect(1px 1px 1px 1px);clip: rect(1px, 1px, 1px, 1px);height: 1px;margin: -1px;overflow: hidden;padding: 0;position: absolute;width: 1px;}#sk-container-id-6 div.sk-estimator {font-family: monospace;background-color: #f0f8ff;border: 1px dotted black;border-radius: 0.25em;box-sizing: border-box;margin-bottom: 0.5em;}#sk-container-id-6 div.sk-estimator:hover {background-color: #d4ebff;}#sk-container-id-6 div.sk-parallel-item::after {content: \"\";width: 100%;border-bottom: 1px solid gray;flex-grow: 1;}#sk-container-id-6 div.sk-label:hover label.sk-toggleable__label {background-color: #d4ebff;}#sk-container-id-6 div.sk-serial::before {content: \"\";position: absolute;border-left: 1px solid gray;box-sizing: border-box;top: 0;bottom: 0;left: 50%;z-index: 0;}#sk-container-id-6 div.sk-serial {display: flex;flex-direction: column;align-items: center;background-color: white;padding-right: 0.2em;padding-left: 0.2em;position: relative;}#sk-container-id-6 div.sk-item {position: relative;z-index: 1;}#sk-container-id-6 div.sk-parallel {display: flex;align-items: stretch;justify-content: center;background-color: white;position: relative;}#sk-container-id-6 div.sk-item::before, #sk-container-id-6 div.sk-parallel-item::before {content: \"\";position: absolute;border-left: 1px solid gray;box-sizing: border-box;top: 0;bottom: 0;left: 50%;z-index: -1;}#sk-container-id-6 div.sk-parallel-item {display: flex;flex-direction: column;z-index: 1;position: relative;background-color: white;}#sk-container-id-6 div.sk-parallel-item:first-child::after {align-self: flex-end;width: 50%;}#sk-container-id-6 div.sk-parallel-item:last-child::after {align-self: flex-start;width: 50%;}#sk-container-id-6 div.sk-parallel-item:only-child::after {width: 0;}#sk-container-id-6 div.sk-dashed-wrapped {border: 1px dashed gray;margin: 0 0.4em 0.5em 0.4em;box-sizing: border-box;padding-bottom: 0.4em;background-color: white;}#sk-container-id-6 div.sk-label label {font-family: monospace;font-weight: bold;display: inline-block;line-height: 1.2em;}#sk-container-id-6 div.sk-label-container {text-align: center;}#sk-container-id-6 div.sk-container {/* jupyter's `normalize.less` sets `[hidden] { display: none; }` but bootstrap.min.css set `[hidden] { display: none !important; }` so we also need the `!important` here to be able to override the default hidden behavior on the sphinx rendered scikit-learn.org. See: https://github.com/scikit-learn/scikit-learn/issues/21755 */display: inline-block !important;position: relative;}#sk-container-id-6 div.sk-text-repr-fallback {display: none;}</style><div id=\"sk-container-id-6\" class=\"sk-top-container\"><div class=\"sk-text-repr-fallback\"><pre>GaussianNB()</pre><b>In a Jupyter environment, please rerun this cell to show the HTML representation or trust the notebook. <br />On GitHub, the HTML representation is unable to render, please try loading this page with nbviewer.org.</b></div><div class=\"sk-container\" hidden><div class=\"sk-item\"><div class=\"sk-estimator sk-toggleable\"><input class=\"sk-toggleable__control sk-hidden--visually\" id=\"sk-estimator-id-6\" type=\"checkbox\" checked><label for=\"sk-estimator-id-6\" class=\"sk-toggleable__label sk-toggleable__label-arrow\">GaussianNB</label><div class=\"sk-toggleable__content\"><pre>GaussianNB()</pre></div></div></div></div></div>"
      ],
      "text/plain": [
       "GaussianNB()"
      ]
     },
     "execution_count": 62,
     "metadata": {},
     "output_type": "execute_result"
    }
   ],
   "source": [
    "gnb.fit(x_bat_train,y_bat_train)"
   ]
  },
  {
   "cell_type": "code",
   "execution_count": 63,
   "id": "04680c98",
   "metadata": {},
   "outputs": [
    {
     "data": {
      "text/plain": [
       "array([  2,   2, 443,   2,   2], dtype=int64)"
      ]
     },
     "execution_count": 63,
     "metadata": {},
     "output_type": "execute_result"
    }
   ],
   "source": [
    "gnb.predict(x_bat_test)"
   ]
  },
  {
   "cell_type": "code",
   "execution_count": 64,
   "id": "c6bd5321",
   "metadata": {},
   "outputs": [
    {
     "name": "stdout",
     "output_type": "stream",
     "text": [
      "Accuracy Score: 100.0 %\n"
     ]
    }
   ],
   "source": [
    "score=round(gnb.score(x_bat_train,y_bat_train)*100,2)\n",
    "print(\"Accuracy Score:\",round(score,2,),\"%\")"
   ]
  },
  {
   "cell_type": "markdown",
   "id": "fe7dbd47",
   "metadata": {},
   "source": [
    "###  Conclusion:\n",
    "#### >> The Visualisation of dataset gave us clear idea about the player's performance in World Cup 2019.\n",
    "#### >> Also, the above models gave highest accuracy, for both bowling as well as batting perspectives."
   ]
  }
 ],
 "metadata": {
  "kernelspec": {
   "display_name": "Python 3 (ipykernel)",
   "language": "python",
   "name": "python3"
  },
  "language_info": {
   "codemirror_mode": {
    "name": "ipython",
    "version": 3
   },
   "file_extension": ".py",
   "mimetype": "text/x-python",
   "name": "python",
   "nbconvert_exporter": "python",
   "pygments_lexer": "ipython3",
   "version": "3.10.9"
  }
 },
 "nbformat": 4,
 "nbformat_minor": 5
}
